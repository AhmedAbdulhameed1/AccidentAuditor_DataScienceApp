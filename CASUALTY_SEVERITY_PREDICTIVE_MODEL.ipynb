{
  "nbformat": 4,
  "nbformat_minor": 0,
  "metadata": {
    "colab": {
      "provenance": [],
      "include_colab_link": true
    },
    "kernelspec": {
      "name": "python3",
      "display_name": "Python 3"
    },
    "language_info": {
      "name": "python"
    }
  },
  "cells": [
    {
      "cell_type": "markdown",
      "metadata": {
        "id": "view-in-github",
        "colab_type": "text"
      },
      "source": [
        "<a href=\"https://colab.research.google.com/github/ahmedyasser7/DEPI_GP/blob/main/CASUALTY_SEVERITY_PREDICTIVE_MODEL.ipynb\" target=\"_parent\"><img src=\"https://colab.research.google.com/assets/colab-badge.svg\" alt=\"Open In Colab\"/></a>"
      ]
    },
    {
      "cell_type": "markdown",
      "source": [
        "# **CASUALTY SEVERITY PREDICTIVE MODEL**"
      ],
      "metadata": {
        "id": "DNqrdd1bQCXo"
      }
    },
    {
      "cell_type": "markdown",
      "source": [
        "# Uploading The Dataset"
      ],
      "metadata": {
        "id": "fpoVwU_Us-BU"
      }
    },
    {
      "cell_type": "code",
      "execution_count": 1,
      "metadata": {
        "colab": {
          "base_uri": "https://localhost:8080/",
          "height": 73
        },
        "id": "PGSf1Nsk0pZh",
        "outputId": "b5835962-1d07-4d18-fa24-c6449ec8b7b8"
      },
      "outputs": [
        {
          "output_type": "display_data",
          "data": {
            "text/plain": [
              "<IPython.core.display.HTML object>"
            ],
            "text/html": [
              "\n",
              "     <input type=\"file\" id=\"files-9b62a80e-418e-4cd7-bb47-7416798c7643\" name=\"files[]\" multiple disabled\n",
              "        style=\"border:none\" />\n",
              "     <output id=\"result-9b62a80e-418e-4cd7-bb47-7416798c7643\">\n",
              "      Upload widget is only available when the cell has been executed in the\n",
              "      current browser session. Please rerun this cell to enable.\n",
              "      </output>\n",
              "      <script>// Copyright 2017 Google LLC\n",
              "//\n",
              "// Licensed under the Apache License, Version 2.0 (the \"License\");\n",
              "// you may not use this file except in compliance with the License.\n",
              "// You may obtain a copy of the License at\n",
              "//\n",
              "//      http://www.apache.org/licenses/LICENSE-2.0\n",
              "//\n",
              "// Unless required by applicable law or agreed to in writing, software\n",
              "// distributed under the License is distributed on an \"AS IS\" BASIS,\n",
              "// WITHOUT WARRANTIES OR CONDITIONS OF ANY KIND, either express or implied.\n",
              "// See the License for the specific language governing permissions and\n",
              "// limitations under the License.\n",
              "\n",
              "/**\n",
              " * @fileoverview Helpers for google.colab Python module.\n",
              " */\n",
              "(function(scope) {\n",
              "function span(text, styleAttributes = {}) {\n",
              "  const element = document.createElement('span');\n",
              "  element.textContent = text;\n",
              "  for (const key of Object.keys(styleAttributes)) {\n",
              "    element.style[key] = styleAttributes[key];\n",
              "  }\n",
              "  return element;\n",
              "}\n",
              "\n",
              "// Max number of bytes which will be uploaded at a time.\n",
              "const MAX_PAYLOAD_SIZE = 100 * 1024;\n",
              "\n",
              "function _uploadFiles(inputId, outputId) {\n",
              "  const steps = uploadFilesStep(inputId, outputId);\n",
              "  const outputElement = document.getElementById(outputId);\n",
              "  // Cache steps on the outputElement to make it available for the next call\n",
              "  // to uploadFilesContinue from Python.\n",
              "  outputElement.steps = steps;\n",
              "\n",
              "  return _uploadFilesContinue(outputId);\n",
              "}\n",
              "\n",
              "// This is roughly an async generator (not supported in the browser yet),\n",
              "// where there are multiple asynchronous steps and the Python side is going\n",
              "// to poll for completion of each step.\n",
              "// This uses a Promise to block the python side on completion of each step,\n",
              "// then passes the result of the previous step as the input to the next step.\n",
              "function _uploadFilesContinue(outputId) {\n",
              "  const outputElement = document.getElementById(outputId);\n",
              "  const steps = outputElement.steps;\n",
              "\n",
              "  const next = steps.next(outputElement.lastPromiseValue);\n",
              "  return Promise.resolve(next.value.promise).then((value) => {\n",
              "    // Cache the last promise value to make it available to the next\n",
              "    // step of the generator.\n",
              "    outputElement.lastPromiseValue = value;\n",
              "    return next.value.response;\n",
              "  });\n",
              "}\n",
              "\n",
              "/**\n",
              " * Generator function which is called between each async step of the upload\n",
              " * process.\n",
              " * @param {string} inputId Element ID of the input file picker element.\n",
              " * @param {string} outputId Element ID of the output display.\n",
              " * @return {!Iterable<!Object>} Iterable of next steps.\n",
              " */\n",
              "function* uploadFilesStep(inputId, outputId) {\n",
              "  const inputElement = document.getElementById(inputId);\n",
              "  inputElement.disabled = false;\n",
              "\n",
              "  const outputElement = document.getElementById(outputId);\n",
              "  outputElement.innerHTML = '';\n",
              "\n",
              "  const pickedPromise = new Promise((resolve) => {\n",
              "    inputElement.addEventListener('change', (e) => {\n",
              "      resolve(e.target.files);\n",
              "    });\n",
              "  });\n",
              "\n",
              "  const cancel = document.createElement('button');\n",
              "  inputElement.parentElement.appendChild(cancel);\n",
              "  cancel.textContent = 'Cancel upload';\n",
              "  const cancelPromise = new Promise((resolve) => {\n",
              "    cancel.onclick = () => {\n",
              "      resolve(null);\n",
              "    };\n",
              "  });\n",
              "\n",
              "  // Wait for the user to pick the files.\n",
              "  const files = yield {\n",
              "    promise: Promise.race([pickedPromise, cancelPromise]),\n",
              "    response: {\n",
              "      action: 'starting',\n",
              "    }\n",
              "  };\n",
              "\n",
              "  cancel.remove();\n",
              "\n",
              "  // Disable the input element since further picks are not allowed.\n",
              "  inputElement.disabled = true;\n",
              "\n",
              "  if (!files) {\n",
              "    return {\n",
              "      response: {\n",
              "        action: 'complete',\n",
              "      }\n",
              "    };\n",
              "  }\n",
              "\n",
              "  for (const file of files) {\n",
              "    const li = document.createElement('li');\n",
              "    li.append(span(file.name, {fontWeight: 'bold'}));\n",
              "    li.append(span(\n",
              "        `(${file.type || 'n/a'}) - ${file.size} bytes, ` +\n",
              "        `last modified: ${\n",
              "            file.lastModifiedDate ? file.lastModifiedDate.toLocaleDateString() :\n",
              "                                    'n/a'} - `));\n",
              "    const percent = span('0% done');\n",
              "    li.appendChild(percent);\n",
              "\n",
              "    outputElement.appendChild(li);\n",
              "\n",
              "    const fileDataPromise = new Promise((resolve) => {\n",
              "      const reader = new FileReader();\n",
              "      reader.onload = (e) => {\n",
              "        resolve(e.target.result);\n",
              "      };\n",
              "      reader.readAsArrayBuffer(file);\n",
              "    });\n",
              "    // Wait for the data to be ready.\n",
              "    let fileData = yield {\n",
              "      promise: fileDataPromise,\n",
              "      response: {\n",
              "        action: 'continue',\n",
              "      }\n",
              "    };\n",
              "\n",
              "    // Use a chunked sending to avoid message size limits. See b/62115660.\n",
              "    let position = 0;\n",
              "    do {\n",
              "      const length = Math.min(fileData.byteLength - position, MAX_PAYLOAD_SIZE);\n",
              "      const chunk = new Uint8Array(fileData, position, length);\n",
              "      position += length;\n",
              "\n",
              "      const base64 = btoa(String.fromCharCode.apply(null, chunk));\n",
              "      yield {\n",
              "        response: {\n",
              "          action: 'append',\n",
              "          file: file.name,\n",
              "          data: base64,\n",
              "        },\n",
              "      };\n",
              "\n",
              "      let percentDone = fileData.byteLength === 0 ?\n",
              "          100 :\n",
              "          Math.round((position / fileData.byteLength) * 100);\n",
              "      percent.textContent = `${percentDone}% done`;\n",
              "\n",
              "    } while (position < fileData.byteLength);\n",
              "  }\n",
              "\n",
              "  // All done.\n",
              "  yield {\n",
              "    response: {\n",
              "      action: 'complete',\n",
              "    }\n",
              "  };\n",
              "}\n",
              "\n",
              "scope.google = scope.google || {};\n",
              "scope.google.colab = scope.google.colab || {};\n",
              "scope.google.colab._files = {\n",
              "  _uploadFiles,\n",
              "  _uploadFilesContinue,\n",
              "};\n",
              "})(self);\n",
              "</script> "
            ]
          },
          "metadata": {}
        },
        {
          "output_type": "stream",
          "name": "stdout",
          "text": [
            "Saving casualties cleaned data.csv to casualties cleaned data.csv\n"
          ]
        }
      ],
      "source": [
        "from google.colab import files\n",
        "uploaded = files.upload()"
      ]
    },
    {
      "cell_type": "markdown",
      "source": [
        "# Importing Libraries"
      ],
      "metadata": {
        "id": "UYQwGbevPz3y"
      }
    },
    {
      "cell_type": "code",
      "source": [
        "# Importing the necessary Libraries\n",
        "import numpy as np\n",
        "import pandas as pd\n",
        "from sklearn.model_selection import train_test_split\n",
        "from sklearn.metrics import accuracy_score, classification_report, confusion_matrix\n",
        "from sklearn.neighbors import KNeighborsClassifier\n",
        "from sklearn.pipeline import Pipeline\n",
        "from imblearn.over_sampling import ADASYN\n",
        "from collections import Counter\n",
        "from sklearn.preprocessing import StandardScaler\n",
        "import matplotlib.pyplot as plt\n",
        "import seaborn as sns\n",
        "from sklearn.metrics import accuracy_score, classification_report, confusion_matrix\n",
        "from sklearn.preprocessing import StandardScaler\n",
        "from sklearn.decomposition import PCA\n",
        "import faiss"
      ],
      "metadata": {
        "id": "v40f4vhnKax9"
      },
      "execution_count": 1,
      "outputs": []
    },
    {
      "cell_type": "code",
      "source": [
        "pip install faiss-Gpu\n"
      ],
      "metadata": {
        "colab": {
          "base_uri": "https://localhost:8080/"
        },
        "id": "A0YgbjsA9cqS",
        "outputId": "930abc71-29ac-481f-a8cb-cddcc1c3f176"
      },
      "execution_count": 42,
      "outputs": [
        {
          "output_type": "stream",
          "name": "stdout",
          "text": [
            "Requirement already satisfied: faiss-Gpu in /usr/local/lib/python3.10/dist-packages (1.7.2)\n"
          ]
        }
      ]
    },
    {
      "cell_type": "markdown",
      "source": [
        "#Load the Dataset"
      ],
      "metadata": {
        "id": "Db0VdwSFQF68"
      }
    },
    {
      "cell_type": "code",
      "source": [
        "# Load the 'casualties cleaned data.csv' dataset\n",
        "df = pd.read_csv('casualties cleaned data.csv')\n",
        "df"
      ],
      "metadata": {
        "colab": {
          "base_uri": "https://localhost:8080/",
          "height": 423
        },
        "id": "TwyiYXqrKa1S",
        "outputId": "53f0a236-0ce3-418f-c3c2-bf0a2f4a0f81"
      },
      "execution_count": 26,
      "outputs": [
        {
          "output_type": "execute_result",
          "data": {
            "text/plain": [
              "        Accident_Index  Casualty_Reference  Sex_of_Casualty  Age_of_Casualty  \\\n",
              "0        200901BS70001                   1                1               77   \n",
              "1        200901BS70002                   1                1               40   \n",
              "2        200901BS70002                   2                1               38   \n",
              "3        200901BS70002                   3                2               76   \n",
              "4        200901BS70002                   4                1               42   \n",
              "...                ...                 ...              ...              ...   \n",
              "1185978  2014984137714                   1                2               16   \n",
              "1185979  2014984138414                   1                1               27   \n",
              "1185980  2014984138414                   2                1               44   \n",
              "1185981  2014984139614                   2                1               61   \n",
              "1185982  2014984139614                   1                1               79   \n",
              "\n",
              "         Casualty_Severity  Car_Passenger  Bus_or_Coach_Passenger  \\\n",
              "0                        2              0                       0   \n",
              "1                        3              0                       0   \n",
              "2                        3              0                       0   \n",
              "3                        2              0                       4   \n",
              "4                        2              0                       4   \n",
              "...                    ...            ...                     ...   \n",
              "1185978                  3              2                       0   \n",
              "1185979                  3              0                       0   \n",
              "1185980                  2              0                       0   \n",
              "1185981                  3              0                       4   \n",
              "1185982                  3              0                       0   \n",
              "\n",
              "         Casualty_Type  \n",
              "0                    2  \n",
              "1                   19  \n",
              "2                   11  \n",
              "3                   11  \n",
              "4                   11  \n",
              "...                ...  \n",
              "1185978              9  \n",
              "1185979              9  \n",
              "1185980             19  \n",
              "1185981             11  \n",
              "1185982              9  \n",
              "\n",
              "[1185983 rows x 8 columns]"
            ],
            "text/html": [
              "\n",
              "  <div id=\"df-6aee3c59-73d6-46fa-8fb1-96eacae59c24\" class=\"colab-df-container\">\n",
              "    <div>\n",
              "<style scoped>\n",
              "    .dataframe tbody tr th:only-of-type {\n",
              "        vertical-align: middle;\n",
              "    }\n",
              "\n",
              "    .dataframe tbody tr th {\n",
              "        vertical-align: top;\n",
              "    }\n",
              "\n",
              "    .dataframe thead th {\n",
              "        text-align: right;\n",
              "    }\n",
              "</style>\n",
              "<table border=\"1\" class=\"dataframe\">\n",
              "  <thead>\n",
              "    <tr style=\"text-align: right;\">\n",
              "      <th></th>\n",
              "      <th>Accident_Index</th>\n",
              "      <th>Casualty_Reference</th>\n",
              "      <th>Sex_of_Casualty</th>\n",
              "      <th>Age_of_Casualty</th>\n",
              "      <th>Casualty_Severity</th>\n",
              "      <th>Car_Passenger</th>\n",
              "      <th>Bus_or_Coach_Passenger</th>\n",
              "      <th>Casualty_Type</th>\n",
              "    </tr>\n",
              "  </thead>\n",
              "  <tbody>\n",
              "    <tr>\n",
              "      <th>0</th>\n",
              "      <td>200901BS70001</td>\n",
              "      <td>1</td>\n",
              "      <td>1</td>\n",
              "      <td>77</td>\n",
              "      <td>2</td>\n",
              "      <td>0</td>\n",
              "      <td>0</td>\n",
              "      <td>2</td>\n",
              "    </tr>\n",
              "    <tr>\n",
              "      <th>1</th>\n",
              "      <td>200901BS70002</td>\n",
              "      <td>1</td>\n",
              "      <td>1</td>\n",
              "      <td>40</td>\n",
              "      <td>3</td>\n",
              "      <td>0</td>\n",
              "      <td>0</td>\n",
              "      <td>19</td>\n",
              "    </tr>\n",
              "    <tr>\n",
              "      <th>2</th>\n",
              "      <td>200901BS70002</td>\n",
              "      <td>2</td>\n",
              "      <td>1</td>\n",
              "      <td>38</td>\n",
              "      <td>3</td>\n",
              "      <td>0</td>\n",
              "      <td>0</td>\n",
              "      <td>11</td>\n",
              "    </tr>\n",
              "    <tr>\n",
              "      <th>3</th>\n",
              "      <td>200901BS70002</td>\n",
              "      <td>3</td>\n",
              "      <td>2</td>\n",
              "      <td>76</td>\n",
              "      <td>2</td>\n",
              "      <td>0</td>\n",
              "      <td>4</td>\n",
              "      <td>11</td>\n",
              "    </tr>\n",
              "    <tr>\n",
              "      <th>4</th>\n",
              "      <td>200901BS70002</td>\n",
              "      <td>4</td>\n",
              "      <td>1</td>\n",
              "      <td>42</td>\n",
              "      <td>2</td>\n",
              "      <td>0</td>\n",
              "      <td>4</td>\n",
              "      <td>11</td>\n",
              "    </tr>\n",
              "    <tr>\n",
              "      <th>...</th>\n",
              "      <td>...</td>\n",
              "      <td>...</td>\n",
              "      <td>...</td>\n",
              "      <td>...</td>\n",
              "      <td>...</td>\n",
              "      <td>...</td>\n",
              "      <td>...</td>\n",
              "      <td>...</td>\n",
              "    </tr>\n",
              "    <tr>\n",
              "      <th>1185978</th>\n",
              "      <td>2014984137714</td>\n",
              "      <td>1</td>\n",
              "      <td>2</td>\n",
              "      <td>16</td>\n",
              "      <td>3</td>\n",
              "      <td>2</td>\n",
              "      <td>0</td>\n",
              "      <td>9</td>\n",
              "    </tr>\n",
              "    <tr>\n",
              "      <th>1185979</th>\n",
              "      <td>2014984138414</td>\n",
              "      <td>1</td>\n",
              "      <td>1</td>\n",
              "      <td>27</td>\n",
              "      <td>3</td>\n",
              "      <td>0</td>\n",
              "      <td>0</td>\n",
              "      <td>9</td>\n",
              "    </tr>\n",
              "    <tr>\n",
              "      <th>1185980</th>\n",
              "      <td>2014984138414</td>\n",
              "      <td>2</td>\n",
              "      <td>1</td>\n",
              "      <td>44</td>\n",
              "      <td>2</td>\n",
              "      <td>0</td>\n",
              "      <td>0</td>\n",
              "      <td>19</td>\n",
              "    </tr>\n",
              "    <tr>\n",
              "      <th>1185981</th>\n",
              "      <td>2014984139614</td>\n",
              "      <td>2</td>\n",
              "      <td>1</td>\n",
              "      <td>61</td>\n",
              "      <td>3</td>\n",
              "      <td>0</td>\n",
              "      <td>4</td>\n",
              "      <td>11</td>\n",
              "    </tr>\n",
              "    <tr>\n",
              "      <th>1185982</th>\n",
              "      <td>2014984139614</td>\n",
              "      <td>1</td>\n",
              "      <td>1</td>\n",
              "      <td>79</td>\n",
              "      <td>3</td>\n",
              "      <td>0</td>\n",
              "      <td>0</td>\n",
              "      <td>9</td>\n",
              "    </tr>\n",
              "  </tbody>\n",
              "</table>\n",
              "<p>1185983 rows × 8 columns</p>\n",
              "</div>\n",
              "    <div class=\"colab-df-buttons\">\n",
              "      \n",
              "  <div class=\"colab-df-container\">\n",
              "    <button class=\"colab-df-convert\" onclick=\"convertToInteractive('df-6aee3c59-73d6-46fa-8fb1-96eacae59c24')\"\n",
              "            title=\"Convert this dataframe to an interactive table.\"\n",
              "            style=\"display:none;\">\n",
              "      \n",
              "  <svg xmlns=\"http://www.w3.org/2000/svg\" height=\"24px\" viewBox=\"0 -960 960 960\">\n",
              "    <path d=\"M120-120v-720h720v720H120Zm60-500h600v-160H180v160Zm220 220h160v-160H400v160Zm0 220h160v-160H400v160ZM180-400h160v-160H180v160Zm440 0h160v-160H620v160ZM180-180h160v-160H180v160Zm440 0h160v-160H620v160Z\"/>\n",
              "  </svg>\n",
              "    </button>\n",
              "    \n",
              "  <style>\n",
              "    .colab-df-container {\n",
              "      display:flex;\n",
              "      gap: 12px;\n",
              "    }\n",
              "\n",
              "    .colab-df-convert {\n",
              "      background-color: #E8F0FE;\n",
              "      border: none;\n",
              "      border-radius: 50%;\n",
              "      cursor: pointer;\n",
              "      display: none;\n",
              "      fill: #1967D2;\n",
              "      height: 32px;\n",
              "      padding: 0 0 0 0;\n",
              "      width: 32px;\n",
              "    }\n",
              "\n",
              "    .colab-df-convert:hover {\n",
              "      background-color: #E2EBFA;\n",
              "      box-shadow: 0px 1px 2px rgba(60, 64, 67, 0.3), 0px 1px 3px 1px rgba(60, 64, 67, 0.15);\n",
              "      fill: #174EA6;\n",
              "    }\n",
              "\n",
              "    .colab-df-buttons div {\n",
              "      margin-bottom: 4px;\n",
              "    }\n",
              "\n",
              "    [theme=dark] .colab-df-convert {\n",
              "      background-color: #3B4455;\n",
              "      fill: #D2E3FC;\n",
              "    }\n",
              "\n",
              "    [theme=dark] .colab-df-convert:hover {\n",
              "      background-color: #434B5C;\n",
              "      box-shadow: 0px 1px 3px 1px rgba(0, 0, 0, 0.15);\n",
              "      filter: drop-shadow(0px 1px 2px rgba(0, 0, 0, 0.3));\n",
              "      fill: #FFFFFF;\n",
              "    }\n",
              "  </style>\n",
              "\n",
              "    <script>\n",
              "      const buttonEl =\n",
              "        document.querySelector('#df-6aee3c59-73d6-46fa-8fb1-96eacae59c24 button.colab-df-convert');\n",
              "      buttonEl.style.display =\n",
              "        google.colab.kernel.accessAllowed ? 'block' : 'none';\n",
              "\n",
              "      async function convertToInteractive(key) {\n",
              "        const element = document.querySelector('#df-6aee3c59-73d6-46fa-8fb1-96eacae59c24');\n",
              "        const dataTable =\n",
              "          await google.colab.kernel.invokeFunction('convertToInteractive',\n",
              "                                                    [key], {});\n",
              "        if (!dataTable) return;\n",
              "\n",
              "        const docLinkHtml = 'Like what you see? Visit the ' +\n",
              "          '<a target=\"_blank\" href=https://colab.research.google.com/notebooks/data_table.ipynb>data table notebook</a>'\n",
              "          + ' to learn more about interactive tables.';\n",
              "        element.innerHTML = '';\n",
              "        dataTable['output_type'] = 'display_data';\n",
              "        await google.colab.output.renderOutput(dataTable, element);\n",
              "        const docLink = document.createElement('div');\n",
              "        docLink.innerHTML = docLinkHtml;\n",
              "        element.appendChild(docLink);\n",
              "      }\n",
              "    </script>\n",
              "  </div>\n",
              "  \n",
              "    </div>\n",
              "  </div>\n",
              "  "
            ]
          },
          "metadata": {},
          "execution_count": 26
        }
      ]
    },
    {
      "cell_type": "markdown",
      "source": [
        "# Exploring & Preprocessing the Data"
      ],
      "metadata": {
        "id": "bNJ5wEuqcVs2"
      }
    },
    {
      "cell_type": "code",
      "source": [
        "df.head()"
      ],
      "metadata": {
        "colab": {
          "base_uri": "https://localhost:8080/",
          "height": 206
        },
        "id": "BneOiv3-GETo",
        "outputId": "3f9b5297-ef4f-410e-bee5-b145248a10fe"
      },
      "execution_count": 27,
      "outputs": [
        {
          "output_type": "execute_result",
          "data": {
            "text/plain": [
              "  Accident_Index  Casualty_Reference  Sex_of_Casualty  Age_of_Casualty  \\\n",
              "0  200901BS70001                   1                1               77   \n",
              "1  200901BS70002                   1                1               40   \n",
              "2  200901BS70002                   2                1               38   \n",
              "3  200901BS70002                   3                2               76   \n",
              "4  200901BS70002                   4                1               42   \n",
              "\n",
              "   Casualty_Severity  Car_Passenger  Bus_or_Coach_Passenger  Casualty_Type  \n",
              "0                  2              0                       0              2  \n",
              "1                  3              0                       0             19  \n",
              "2                  3              0                       0             11  \n",
              "3                  2              0                       4             11  \n",
              "4                  2              0                       4             11  "
            ],
            "text/html": [
              "\n",
              "  <div id=\"df-4828e679-2284-4fb5-ab7e-90e14c4d897c\" class=\"colab-df-container\">\n",
              "    <div>\n",
              "<style scoped>\n",
              "    .dataframe tbody tr th:only-of-type {\n",
              "        vertical-align: middle;\n",
              "    }\n",
              "\n",
              "    .dataframe tbody tr th {\n",
              "        vertical-align: top;\n",
              "    }\n",
              "\n",
              "    .dataframe thead th {\n",
              "        text-align: right;\n",
              "    }\n",
              "</style>\n",
              "<table border=\"1\" class=\"dataframe\">\n",
              "  <thead>\n",
              "    <tr style=\"text-align: right;\">\n",
              "      <th></th>\n",
              "      <th>Accident_Index</th>\n",
              "      <th>Casualty_Reference</th>\n",
              "      <th>Sex_of_Casualty</th>\n",
              "      <th>Age_of_Casualty</th>\n",
              "      <th>Casualty_Severity</th>\n",
              "      <th>Car_Passenger</th>\n",
              "      <th>Bus_or_Coach_Passenger</th>\n",
              "      <th>Casualty_Type</th>\n",
              "    </tr>\n",
              "  </thead>\n",
              "  <tbody>\n",
              "    <tr>\n",
              "      <th>0</th>\n",
              "      <td>200901BS70001</td>\n",
              "      <td>1</td>\n",
              "      <td>1</td>\n",
              "      <td>77</td>\n",
              "      <td>2</td>\n",
              "      <td>0</td>\n",
              "      <td>0</td>\n",
              "      <td>2</td>\n",
              "    </tr>\n",
              "    <tr>\n",
              "      <th>1</th>\n",
              "      <td>200901BS70002</td>\n",
              "      <td>1</td>\n",
              "      <td>1</td>\n",
              "      <td>40</td>\n",
              "      <td>3</td>\n",
              "      <td>0</td>\n",
              "      <td>0</td>\n",
              "      <td>19</td>\n",
              "    </tr>\n",
              "    <tr>\n",
              "      <th>2</th>\n",
              "      <td>200901BS70002</td>\n",
              "      <td>2</td>\n",
              "      <td>1</td>\n",
              "      <td>38</td>\n",
              "      <td>3</td>\n",
              "      <td>0</td>\n",
              "      <td>0</td>\n",
              "      <td>11</td>\n",
              "    </tr>\n",
              "    <tr>\n",
              "      <th>3</th>\n",
              "      <td>200901BS70002</td>\n",
              "      <td>3</td>\n",
              "      <td>2</td>\n",
              "      <td>76</td>\n",
              "      <td>2</td>\n",
              "      <td>0</td>\n",
              "      <td>4</td>\n",
              "      <td>11</td>\n",
              "    </tr>\n",
              "    <tr>\n",
              "      <th>4</th>\n",
              "      <td>200901BS70002</td>\n",
              "      <td>4</td>\n",
              "      <td>1</td>\n",
              "      <td>42</td>\n",
              "      <td>2</td>\n",
              "      <td>0</td>\n",
              "      <td>4</td>\n",
              "      <td>11</td>\n",
              "    </tr>\n",
              "  </tbody>\n",
              "</table>\n",
              "</div>\n",
              "    <div class=\"colab-df-buttons\">\n",
              "      \n",
              "  <div class=\"colab-df-container\">\n",
              "    <button class=\"colab-df-convert\" onclick=\"convertToInteractive('df-4828e679-2284-4fb5-ab7e-90e14c4d897c')\"\n",
              "            title=\"Convert this dataframe to an interactive table.\"\n",
              "            style=\"display:none;\">\n",
              "      \n",
              "  <svg xmlns=\"http://www.w3.org/2000/svg\" height=\"24px\" viewBox=\"0 -960 960 960\">\n",
              "    <path d=\"M120-120v-720h720v720H120Zm60-500h600v-160H180v160Zm220 220h160v-160H400v160Zm0 220h160v-160H400v160ZM180-400h160v-160H180v160Zm440 0h160v-160H620v160ZM180-180h160v-160H180v160Zm440 0h160v-160H620v160Z\"/>\n",
              "  </svg>\n",
              "    </button>\n",
              "    \n",
              "  <style>\n",
              "    .colab-df-container {\n",
              "      display:flex;\n",
              "      gap: 12px;\n",
              "    }\n",
              "\n",
              "    .colab-df-convert {\n",
              "      background-color: #E8F0FE;\n",
              "      border: none;\n",
              "      border-radius: 50%;\n",
              "      cursor: pointer;\n",
              "      display: none;\n",
              "      fill: #1967D2;\n",
              "      height: 32px;\n",
              "      padding: 0 0 0 0;\n",
              "      width: 32px;\n",
              "    }\n",
              "\n",
              "    .colab-df-convert:hover {\n",
              "      background-color: #E2EBFA;\n",
              "      box-shadow: 0px 1px 2px rgba(60, 64, 67, 0.3), 0px 1px 3px 1px rgba(60, 64, 67, 0.15);\n",
              "      fill: #174EA6;\n",
              "    }\n",
              "\n",
              "    .colab-df-buttons div {\n",
              "      margin-bottom: 4px;\n",
              "    }\n",
              "\n",
              "    [theme=dark] .colab-df-convert {\n",
              "      background-color: #3B4455;\n",
              "      fill: #D2E3FC;\n",
              "    }\n",
              "\n",
              "    [theme=dark] .colab-df-convert:hover {\n",
              "      background-color: #434B5C;\n",
              "      box-shadow: 0px 1px 3px 1px rgba(0, 0, 0, 0.15);\n",
              "      filter: drop-shadow(0px 1px 2px rgba(0, 0, 0, 0.3));\n",
              "      fill: #FFFFFF;\n",
              "    }\n",
              "  </style>\n",
              "\n",
              "    <script>\n",
              "      const buttonEl =\n",
              "        document.querySelector('#df-4828e679-2284-4fb5-ab7e-90e14c4d897c button.colab-df-convert');\n",
              "      buttonEl.style.display =\n",
              "        google.colab.kernel.accessAllowed ? 'block' : 'none';\n",
              "\n",
              "      async function convertToInteractive(key) {\n",
              "        const element = document.querySelector('#df-4828e679-2284-4fb5-ab7e-90e14c4d897c');\n",
              "        const dataTable =\n",
              "          await google.colab.kernel.invokeFunction('convertToInteractive',\n",
              "                                                    [key], {});\n",
              "        if (!dataTable) return;\n",
              "\n",
              "        const docLinkHtml = 'Like what you see? Visit the ' +\n",
              "          '<a target=\"_blank\" href=https://colab.research.google.com/notebooks/data_table.ipynb>data table notebook</a>'\n",
              "          + ' to learn more about interactive tables.';\n",
              "        element.innerHTML = '';\n",
              "        dataTable['output_type'] = 'display_data';\n",
              "        await google.colab.output.renderOutput(dataTable, element);\n",
              "        const docLink = document.createElement('div');\n",
              "        docLink.innerHTML = docLinkHtml;\n",
              "        element.appendChild(docLink);\n",
              "      }\n",
              "    </script>\n",
              "  </div>\n",
              "  \n",
              "    </div>\n",
              "  </div>\n",
              "  "
            ]
          },
          "metadata": {},
          "execution_count": 27
        }
      ]
    },
    {
      "cell_type": "code",
      "source": [
        "# Get information about the dataset\n",
        "df.info()"
      ],
      "metadata": {
        "id": "aRBUaryUK3_w",
        "colab": {
          "base_uri": "https://localhost:8080/"
        },
        "outputId": "0540be93-2a53-4542-f2b6-a0805ad6b346"
      },
      "execution_count": 28,
      "outputs": [
        {
          "output_type": "stream",
          "name": "stdout",
          "text": [
            "<class 'pandas.core.frame.DataFrame'>\n",
            "RangeIndex: 1185983 entries, 0 to 1185982\n",
            "Data columns (total 8 columns):\n",
            " #   Column                  Non-Null Count    Dtype \n",
            "---  ------                  --------------    ----- \n",
            " 0   Accident_Index          1185983 non-null  object\n",
            " 1   Casualty_Reference      1185983 non-null  int64 \n",
            " 2   Sex_of_Casualty         1185983 non-null  int64 \n",
            " 3   Age_of_Casualty         1185983 non-null  int64 \n",
            " 4   Casualty_Severity       1185983 non-null  int64 \n",
            " 5   Car_Passenger           1185983 non-null  int64 \n",
            " 6   Bus_or_Coach_Passenger  1185983 non-null  int64 \n",
            " 7   Casualty_Type           1185983 non-null  int64 \n",
            "dtypes: int64(7), object(1)\n",
            "memory usage: 72.4+ MB\n"
          ]
        }
      ]
    },
    {
      "cell_type": "code",
      "source": [
        "df.describe()"
      ],
      "metadata": {
        "colab": {
          "base_uri": "https://localhost:8080/",
          "height": 300
        },
        "id": "B01_9bxdK4DK",
        "outputId": "f1a24c1e-3955-47f7-c4d9-5f8debbd2022"
      },
      "execution_count": 29,
      "outputs": [
        {
          "output_type": "execute_result",
          "data": {
            "text/plain": [
              "       Casualty_Reference  Sex_of_Casualty  Age_of_Casualty  \\\n",
              "count        1.185983e+06     1.185983e+06     1.185983e+06   \n",
              "mean         1.431425e+00     1.415368e+00     3.576307e+01   \n",
              "std          1.608286e+00     4.927855e-01     1.850742e+01   \n",
              "min          1.000000e+00     1.000000e+00     0.000000e+00   \n",
              "25%          1.000000e+00     1.000000e+00     2.100000e+01   \n",
              "50%          1.000000e+00     1.000000e+00     3.200000e+01   \n",
              "75%          2.000000e+00     2.000000e+00     4.800000e+01   \n",
              "max          8.520000e+02     2.000000e+00     1.030000e+02   \n",
              "\n",
              "       Casualty_Severity  Car_Passenger  Bus_or_Coach_Passenger  Casualty_Type  \n",
              "count       1.185983e+06   1.185983e+06            1.185983e+06   1.185983e+06  \n",
              "mean        2.866305e+00   2.729634e-01            8.525839e-02   7.387409e+00  \n",
              "std         3.670351e-01   5.857770e-01            5.507572e-01   7.306746e+00  \n",
              "min         1.000000e+00   0.000000e+00            0.000000e+00   0.000000e+00  \n",
              "25%         3.000000e+00   0.000000e+00            0.000000e+00   3.000000e+00  \n",
              "50%         3.000000e+00   0.000000e+00            0.000000e+00   9.000000e+00  \n",
              "75%         3.000000e+00   0.000000e+00            0.000000e+00   9.000000e+00  \n",
              "max         3.000000e+00   2.000000e+00            4.000000e+00   9.800000e+01  "
            ],
            "text/html": [
              "\n",
              "  <div id=\"df-7934ec7a-2075-48bf-abd4-3f455e4d2bca\" class=\"colab-df-container\">\n",
              "    <div>\n",
              "<style scoped>\n",
              "    .dataframe tbody tr th:only-of-type {\n",
              "        vertical-align: middle;\n",
              "    }\n",
              "\n",
              "    .dataframe tbody tr th {\n",
              "        vertical-align: top;\n",
              "    }\n",
              "\n",
              "    .dataframe thead th {\n",
              "        text-align: right;\n",
              "    }\n",
              "</style>\n",
              "<table border=\"1\" class=\"dataframe\">\n",
              "  <thead>\n",
              "    <tr style=\"text-align: right;\">\n",
              "      <th></th>\n",
              "      <th>Casualty_Reference</th>\n",
              "      <th>Sex_of_Casualty</th>\n",
              "      <th>Age_of_Casualty</th>\n",
              "      <th>Casualty_Severity</th>\n",
              "      <th>Car_Passenger</th>\n",
              "      <th>Bus_or_Coach_Passenger</th>\n",
              "      <th>Casualty_Type</th>\n",
              "    </tr>\n",
              "  </thead>\n",
              "  <tbody>\n",
              "    <tr>\n",
              "      <th>count</th>\n",
              "      <td>1.185983e+06</td>\n",
              "      <td>1.185983e+06</td>\n",
              "      <td>1.185983e+06</td>\n",
              "      <td>1.185983e+06</td>\n",
              "      <td>1.185983e+06</td>\n",
              "      <td>1.185983e+06</td>\n",
              "      <td>1.185983e+06</td>\n",
              "    </tr>\n",
              "    <tr>\n",
              "      <th>mean</th>\n",
              "      <td>1.431425e+00</td>\n",
              "      <td>1.415368e+00</td>\n",
              "      <td>3.576307e+01</td>\n",
              "      <td>2.866305e+00</td>\n",
              "      <td>2.729634e-01</td>\n",
              "      <td>8.525839e-02</td>\n",
              "      <td>7.387409e+00</td>\n",
              "    </tr>\n",
              "    <tr>\n",
              "      <th>std</th>\n",
              "      <td>1.608286e+00</td>\n",
              "      <td>4.927855e-01</td>\n",
              "      <td>1.850742e+01</td>\n",
              "      <td>3.670351e-01</td>\n",
              "      <td>5.857770e-01</td>\n",
              "      <td>5.507572e-01</td>\n",
              "      <td>7.306746e+00</td>\n",
              "    </tr>\n",
              "    <tr>\n",
              "      <th>min</th>\n",
              "      <td>1.000000e+00</td>\n",
              "      <td>1.000000e+00</td>\n",
              "      <td>0.000000e+00</td>\n",
              "      <td>1.000000e+00</td>\n",
              "      <td>0.000000e+00</td>\n",
              "      <td>0.000000e+00</td>\n",
              "      <td>0.000000e+00</td>\n",
              "    </tr>\n",
              "    <tr>\n",
              "      <th>25%</th>\n",
              "      <td>1.000000e+00</td>\n",
              "      <td>1.000000e+00</td>\n",
              "      <td>2.100000e+01</td>\n",
              "      <td>3.000000e+00</td>\n",
              "      <td>0.000000e+00</td>\n",
              "      <td>0.000000e+00</td>\n",
              "      <td>3.000000e+00</td>\n",
              "    </tr>\n",
              "    <tr>\n",
              "      <th>50%</th>\n",
              "      <td>1.000000e+00</td>\n",
              "      <td>1.000000e+00</td>\n",
              "      <td>3.200000e+01</td>\n",
              "      <td>3.000000e+00</td>\n",
              "      <td>0.000000e+00</td>\n",
              "      <td>0.000000e+00</td>\n",
              "      <td>9.000000e+00</td>\n",
              "    </tr>\n",
              "    <tr>\n",
              "      <th>75%</th>\n",
              "      <td>2.000000e+00</td>\n",
              "      <td>2.000000e+00</td>\n",
              "      <td>4.800000e+01</td>\n",
              "      <td>3.000000e+00</td>\n",
              "      <td>0.000000e+00</td>\n",
              "      <td>0.000000e+00</td>\n",
              "      <td>9.000000e+00</td>\n",
              "    </tr>\n",
              "    <tr>\n",
              "      <th>max</th>\n",
              "      <td>8.520000e+02</td>\n",
              "      <td>2.000000e+00</td>\n",
              "      <td>1.030000e+02</td>\n",
              "      <td>3.000000e+00</td>\n",
              "      <td>2.000000e+00</td>\n",
              "      <td>4.000000e+00</td>\n",
              "      <td>9.800000e+01</td>\n",
              "    </tr>\n",
              "  </tbody>\n",
              "</table>\n",
              "</div>\n",
              "    <div class=\"colab-df-buttons\">\n",
              "      \n",
              "  <div class=\"colab-df-container\">\n",
              "    <button class=\"colab-df-convert\" onclick=\"convertToInteractive('df-7934ec7a-2075-48bf-abd4-3f455e4d2bca')\"\n",
              "            title=\"Convert this dataframe to an interactive table.\"\n",
              "            style=\"display:none;\">\n",
              "      \n",
              "  <svg xmlns=\"http://www.w3.org/2000/svg\" height=\"24px\" viewBox=\"0 -960 960 960\">\n",
              "    <path d=\"M120-120v-720h720v720H120Zm60-500h600v-160H180v160Zm220 220h160v-160H400v160Zm0 220h160v-160H400v160ZM180-400h160v-160H180v160Zm440 0h160v-160H620v160ZM180-180h160v-160H180v160Zm440 0h160v-160H620v160Z\"/>\n",
              "  </svg>\n",
              "    </button>\n",
              "    \n",
              "  <style>\n",
              "    .colab-df-container {\n",
              "      display:flex;\n",
              "      gap: 12px;\n",
              "    }\n",
              "\n",
              "    .colab-df-convert {\n",
              "      background-color: #E8F0FE;\n",
              "      border: none;\n",
              "      border-radius: 50%;\n",
              "      cursor: pointer;\n",
              "      display: none;\n",
              "      fill: #1967D2;\n",
              "      height: 32px;\n",
              "      padding: 0 0 0 0;\n",
              "      width: 32px;\n",
              "    }\n",
              "\n",
              "    .colab-df-convert:hover {\n",
              "      background-color: #E2EBFA;\n",
              "      box-shadow: 0px 1px 2px rgba(60, 64, 67, 0.3), 0px 1px 3px 1px rgba(60, 64, 67, 0.15);\n",
              "      fill: #174EA6;\n",
              "    }\n",
              "\n",
              "    .colab-df-buttons div {\n",
              "      margin-bottom: 4px;\n",
              "    }\n",
              "\n",
              "    [theme=dark] .colab-df-convert {\n",
              "      background-color: #3B4455;\n",
              "      fill: #D2E3FC;\n",
              "    }\n",
              "\n",
              "    [theme=dark] .colab-df-convert:hover {\n",
              "      background-color: #434B5C;\n",
              "      box-shadow: 0px 1px 3px 1px rgba(0, 0, 0, 0.15);\n",
              "      filter: drop-shadow(0px 1px 2px rgba(0, 0, 0, 0.3));\n",
              "      fill: #FFFFFF;\n",
              "    }\n",
              "  </style>\n",
              "\n",
              "    <script>\n",
              "      const buttonEl =\n",
              "        document.querySelector('#df-7934ec7a-2075-48bf-abd4-3f455e4d2bca button.colab-df-convert');\n",
              "      buttonEl.style.display =\n",
              "        google.colab.kernel.accessAllowed ? 'block' : 'none';\n",
              "\n",
              "      async function convertToInteractive(key) {\n",
              "        const element = document.querySelector('#df-7934ec7a-2075-48bf-abd4-3f455e4d2bca');\n",
              "        const dataTable =\n",
              "          await google.colab.kernel.invokeFunction('convertToInteractive',\n",
              "                                                    [key], {});\n",
              "        if (!dataTable) return;\n",
              "\n",
              "        const docLinkHtml = 'Like what you see? Visit the ' +\n",
              "          '<a target=\"_blank\" href=https://colab.research.google.com/notebooks/data_table.ipynb>data table notebook</a>'\n",
              "          + ' to learn more about interactive tables.';\n",
              "        element.innerHTML = '';\n",
              "        dataTable['output_type'] = 'display_data';\n",
              "        await google.colab.output.renderOutput(dataTable, element);\n",
              "        const docLink = document.createElement('div');\n",
              "        docLink.innerHTML = docLinkHtml;\n",
              "        element.appendChild(docLink);\n",
              "      }\n",
              "    </script>\n",
              "  </div>\n",
              "  \n",
              "    </div>\n",
              "  </div>\n",
              "  "
            ]
          },
          "metadata": {},
          "execution_count": 29
        }
      ]
    },
    {
      "cell_type": "code",
      "source": [
        "df.shape"
      ],
      "metadata": {
        "colab": {
          "base_uri": "https://localhost:8080/"
        },
        "id": "nRC2eDcOKbGD",
        "outputId": "2fc3023d-0715-40bb-cc83-0fb100cc9b66"
      },
      "execution_count": 30,
      "outputs": [
        {
          "output_type": "execute_result",
          "data": {
            "text/plain": [
              "(1185983, 8)"
            ]
          },
          "metadata": {},
          "execution_count": 30
        }
      ]
    },
    {
      "cell_type": "code",
      "source": [
        "# Check for missing values\n",
        "df.isnull().sum()"
      ],
      "metadata": {
        "colab": {
          "base_uri": "https://localhost:8080/",
          "height": 335
        },
        "id": "SbY8t2lnKbBN",
        "outputId": "3857d6ca-b3cd-4f67-d0d5-953ebac4c3ed"
      },
      "execution_count": 31,
      "outputs": [
        {
          "output_type": "execute_result",
          "data": {
            "text/plain": [
              "Accident_Index            0\n",
              "Casualty_Reference        0\n",
              "Sex_of_Casualty           0\n",
              "Age_of_Casualty           0\n",
              "Casualty_Severity         0\n",
              "Car_Passenger             0\n",
              "Bus_or_Coach_Passenger    0\n",
              "Casualty_Type             0\n",
              "dtype: int64"
            ],
            "text/html": [
              "<div>\n",
              "<style scoped>\n",
              "    .dataframe tbody tr th:only-of-type {\n",
              "        vertical-align: middle;\n",
              "    }\n",
              "\n",
              "    .dataframe tbody tr th {\n",
              "        vertical-align: top;\n",
              "    }\n",
              "\n",
              "    .dataframe thead th {\n",
              "        text-align: right;\n",
              "    }\n",
              "</style>\n",
              "<table border=\"1\" class=\"dataframe\">\n",
              "  <thead>\n",
              "    <tr style=\"text-align: right;\">\n",
              "      <th></th>\n",
              "      <th>0</th>\n",
              "    </tr>\n",
              "  </thead>\n",
              "  <tbody>\n",
              "    <tr>\n",
              "      <th>Accident_Index</th>\n",
              "      <td>0</td>\n",
              "    </tr>\n",
              "    <tr>\n",
              "      <th>Casualty_Reference</th>\n",
              "      <td>0</td>\n",
              "    </tr>\n",
              "    <tr>\n",
              "      <th>Sex_of_Casualty</th>\n",
              "      <td>0</td>\n",
              "    </tr>\n",
              "    <tr>\n",
              "      <th>Age_of_Casualty</th>\n",
              "      <td>0</td>\n",
              "    </tr>\n",
              "    <tr>\n",
              "      <th>Casualty_Severity</th>\n",
              "      <td>0</td>\n",
              "    </tr>\n",
              "    <tr>\n",
              "      <th>Car_Passenger</th>\n",
              "      <td>0</td>\n",
              "    </tr>\n",
              "    <tr>\n",
              "      <th>Bus_or_Coach_Passenger</th>\n",
              "      <td>0</td>\n",
              "    </tr>\n",
              "    <tr>\n",
              "      <th>Casualty_Type</th>\n",
              "      <td>0</td>\n",
              "    </tr>\n",
              "  </tbody>\n",
              "</table>\n",
              "</div><br><label><b>dtype:</b> int64</label>"
            ]
          },
          "metadata": {},
          "execution_count": 31
        }
      ]
    },
    {
      "cell_type": "code",
      "source": [
        "# Check for duplicate values\n",
        "df.duplicated().sum()"
      ],
      "metadata": {
        "colab": {
          "base_uri": "https://localhost:8080/"
        },
        "id": "4gi0-MCNKbDl",
        "outputId": "e85b0e09-f5e3-4b83-9031-6bc0ef10db87"
      },
      "execution_count": 32,
      "outputs": [
        {
          "output_type": "execute_result",
          "data": {
            "text/plain": [
              "0"
            ]
          },
          "metadata": {},
          "execution_count": 32
        }
      ]
    },
    {
      "cell_type": "markdown",
      "source": [
        "# Model Selection & Training"
      ],
      "metadata": {
        "id": "WkNB6qycwjdQ"
      }
    },
    {
      "cell_type": "markdown",
      "source": [
        "## Define Features and Target Variable"
      ],
      "metadata": {
        "id": "gJXz_9g3QciM"
      }
    },
    {
      "cell_type": "code",
      "source": [
        "# Define feature columns and target variable\n",
        "feature_columns = ['Sex_of_Casualty', 'Age_of_Casualty',\n",
        "                   'Car_Passenger', 'Bus_or_Coach_Passenger', 'Casualty_Type']\n",
        "X = df[feature_columns]\n",
        "y = df['Casualty_Severity']\n"
      ],
      "metadata": {
        "id": "rDrNBympKbIO"
      },
      "execution_count": 33,
      "outputs": []
    },
    {
      "cell_type": "markdown",
      "source": [
        "## Check Class Distribution"
      ],
      "metadata": {
        "id": "8WN2RVuvQhd5"
      }
    },
    {
      "cell_type": "code",
      "source": [
        "# Check initial class distribution\n",
        "print(f\"Initial class distribution: {Counter(y)}\")\n"
      ],
      "metadata": {
        "colab": {
          "base_uri": "https://localhost:8080/"
        },
        "id": "hA3dYX6TKbKW",
        "outputId": "c2cce575-bdf8-4eee-ca12-6ac6c530d6e9"
      },
      "execution_count": 34,
      "outputs": [
        {
          "output_type": "stream",
          "name": "stdout",
          "text": [
            "Initial class distribution: Counter({3: 1038627, 2: 136152, 1: 11204})\n"
          ]
        }
      ]
    },
    {
      "cell_type": "markdown",
      "source": [
        "## Split the Dataset"
      ],
      "metadata": {
        "id": "nfcsW2-QQnQa"
      }
    },
    {
      "cell_type": "code",
      "source": [
        "# Split the dataset into training and testing sets (80% train, 20% test)\n",
        "X_train, X_test, y_train, y_test = train_test_split(\n",
        "    X, y, test_size=0.2, random_state=42, stratify=y\n",
        ")\n",
        "\n",
        "# Check class distribution after the split\n",
        "print(f\"Class distribution in training set: {Counter(y_train)}\")\n",
        "print(f\"Class distribution in test set: {Counter(y_test)}\")\n"
      ],
      "metadata": {
        "colab": {
          "base_uri": "https://localhost:8080/"
        },
        "id": "CJthlYn-KbMu",
        "outputId": "74a69769-ab7c-4c43-c204-6f0f05e3e39b"
      },
      "execution_count": 35,
      "outputs": [
        {
          "output_type": "stream",
          "name": "stdout",
          "text": [
            "Class distribution in training set: Counter({3: 830901, 2: 108922, 1: 8963})\n",
            "Class distribution in test set: Counter({3: 207726, 2: 27230, 1: 2241})\n"
          ]
        }
      ]
    },
    {
      "cell_type": "markdown",
      "source": [
        "## Handle Class Imbalance"
      ],
      "metadata": {
        "id": "r21Xc6ckQqlZ"
      }
    },
    {
      "cell_type": "code",
      "source": [
        "# Handle class imbalance using ADASYN on the training set\n",
        "adasyn = ADASYN(sampling_strategy='minority', random_state=42)\n",
        "X_balanced, y_balanced = adasyn.fit_resample(X_train, y_train)\n",
        "\n",
        "# Display class distribution after ADASYN on training data\n",
        "print(f\"Class distribution after ADASYN on training set: {Counter(y_balanced)}\")\n",
        "\n",
        "# Handle class imbalance using ADASYN on the test set (for demonstration purposes)\n",
        "X_test_balanced, y_test_balanced = adasyn.fit_resample(X_test, y_test)\n",
        "\n",
        "# Display class distribution after ADASYN on test data\n",
        "print(f\"Class distribution after ADASYN on test set: {Counter(y_test_balanced)}\")\n",
        "\n"
      ],
      "metadata": {
        "colab": {
          "base_uri": "https://localhost:8080/"
        },
        "id": "s405wCYIKbQF",
        "outputId": "66bb4451-7c2d-4fc8-c3b3-0fa9a7cd5bc0"
      },
      "execution_count": 36,
      "outputs": [
        {
          "output_type": "stream",
          "name": "stdout",
          "text": [
            "Class distribution after ADASYN on training set: Counter({3: 830901, 1: 828271, 2: 108922})\n",
            "Class distribution after ADASYN on test set: Counter({3: 207726, 1: 207498, 2: 27230})\n"
          ]
        }
      ]
    },
    {
      "cell_type": "markdown",
      "source": [
        "#Scale Features and Apply PCA"
      ],
      "metadata": {
        "id": "Pp0ZP3FiMZ6L"
      }
    },
    {
      "cell_type": "code",
      "source": [
        "# Set n_components to a valid value (<= number of features in your dataset)\n",
        "n_components = 5  # Adjust as necessary\n",
        "\n",
        "# Scale features and apply PCA\n",
        "scaler = StandardScaler()\n",
        "X_scaled = scaler.fit_transform(X_balanced)\n",
        "pca = PCA(n_components=n_components)\n",
        "X_pca = pca.fit_transform(X_scaled)"
      ],
      "metadata": {
        "id": "ZOdve7S3GYus"
      },
      "execution_count": 37,
      "outputs": []
    },
    {
      "cell_type": "markdown",
      "source": [
        "#Create a Faiss Index for Efficient KNN"
      ],
      "metadata": {
        "id": "Z7aNzYM5MjQL"
      }
    },
    {
      "cell_type": "code",
      "source": [
        "# Create a Faiss index\n",
        "d = X_pca.shape[1]  # Number of features after PCA\n",
        "\n",
        "# Faiss IndexFlatL2 expects float32 type data\n",
        "X_pca_float32 = X_pca.astype('float32')  # Cast to float32\n",
        "\n",
        "# Create an index with L2 distance metric\n",
        "index = faiss.IndexFlatL2(d)\n",
        "\n",
        "# Add the training data (in float32 format) to the index\n",
        "index.add(X_pca_float32)\n",
        "\n"
      ],
      "metadata": {
        "id": "u1L7hMtrGv6i"
      },
      "execution_count": 38,
      "outputs": []
    },
    {
      "cell_type": "markdown",
      "source": [
        "#Define Function for Faiss Prediction"
      ],
      "metadata": {
        "id": "hgxN3oWDMuzR"
      }
    },
    {
      "cell_type": "code",
      "source": [
        "# Function to predict using Faiss\n",
        "def faiss_predict(X_test):\n",
        "    # Scale and apply PCA to the test set\n",
        "    X_test_scaled = scaler.transform(X_test)\n",
        "    X_test_pca = pca.transform(X_test_scaled)\n",
        "\n",
        "    # Ensure that X_test_pca is in the float32 format\n",
        "    X_test_pca = np.array(X_test_pca, dtype=np.float32)\n",
        "\n",
        "    # Perform nearest neighbor search\n",
        "    k = 3  # Number of neighbors\n",
        "    distances, indices = index.search(X_test_pca, k)\n",
        "\n",
        "    # Initialize predictions array\n",
        "    y_pred = np.zeros(X_test.shape[0], dtype=int)\n",
        "    for i in range(X_test.shape[0]):\n",
        "        # Get the labels of the nearest neighbors\n",
        "        neighbor_labels = y_balanced[indices[i]]\n",
        "        # Use majority vote for classification\n",
        "        y_pred[i] = np.bincount(neighbor_labels).argmax()\n",
        "\n",
        "    return y_pred\n",
        "\n"
      ],
      "metadata": {
        "id": "PIR9F3EyG8CG"
      },
      "execution_count": 39,
      "outputs": []
    },
    {
      "cell_type": "markdown",
      "source": [
        "#Make Predictions Using Faiss"
      ],
      "metadata": {
        "id": "Ms1-1uWMM3rf"
      }
    },
    {
      "cell_type": "code",
      "source": [
        "# Make predictions on the test set using Faiss\n",
        "y_pred_numeric = faiss_predict(X_test)"
      ],
      "metadata": {
        "id": "RSF5gDnHM5Op"
      },
      "execution_count": 40,
      "outputs": []
    },
    {
      "cell_type": "markdown",
      "source": [
        "#Map Predictions to Labels"
      ],
      "metadata": {
        "id": "6PESoBL6NAny"
      }
    },
    {
      "cell_type": "code",
      "source": [
        "# Define the mapping from numeric predictions to string labels\n",
        "label_mapping = {1: 'Fatal', 2: 'Serious', 3: 'Slight'}\n",
        "\n",
        "# Map the numeric predictions to string labels\n",
        "#y_pred_labels = [label_mapping[pred] for pred in y_pred_numeric]\n"
      ],
      "metadata": {
        "id": "W9UjJC-fNCOf"
      },
      "execution_count": 41,
      "outputs": []
    },
    {
      "cell_type": "markdown",
      "source": [
        "#Evaluate the Model"
      ],
      "metadata": {
        "id": "9tmMN7D_NSlD"
      }
    },
    {
      "cell_type": "code",
      "source": [
        "# Calculate accuracy using the numeric predictions\n",
        "accuracy = accuracy_score(y_test, y_pred_numeric)\n",
        "\n",
        "# Generate confusion matrix and classification report using numeric predictions\n",
        "conf_matrix = confusion_matrix(y_test, y_pred_numeric)\n",
        "class_report = classification_report(y_test, y_pred_numeric)\n"
      ],
      "metadata": {
        "id": "LP51X3gANWB6"
      },
      "execution_count": 42,
      "outputs": []
    },
    {
      "cell_type": "markdown",
      "source": [
        "#Store Evaluation Results"
      ],
      "metadata": {
        "id": "fl-pknU5NYDF"
      }
    },
    {
      "cell_type": "code",
      "source": [
        "# Store evaluation results\n",
        "evaluation_results = {\n",
        "    'KNN (with Faiss)': {\n",
        "        'accuracy': accuracy,\n",
        "        'confusion_matrix': conf_matrix,\n",
        "        'classification_report': class_report\n",
        "    }\n",
        "}\n",
        "\n",
        "# Display evaluation results for the KNN model\n",
        "for model_name, results in evaluation_results.items():\n",
        "    print(f\"\\nModel: {model_name}\")\n",
        "    print(f\"Accuracy: {results['accuracy']:.4f}\")\n"
      ],
      "metadata": {
        "colab": {
          "base_uri": "https://localhost:8080/"
        },
        "id": "ABWOMp8INbg-",
        "outputId": "dd7a230a-68ba-4a09-f84c-e200a35858bb"
      },
      "execution_count": 43,
      "outputs": [
        {
          "output_type": "stream",
          "name": "stdout",
          "text": [
            "\n",
            "Model: KNN (with Faiss)\n",
            "Accuracy: 0.8392\n"
          ]
        }
      ]
    },
    {
      "cell_type": "markdown",
      "source": [
        "#Display Classification Report"
      ],
      "metadata": {
        "id": "l3oFHNquNeGi"
      }
    },
    {
      "cell_type": "code",
      "source": [
        "# Print the classification report\n",
        "print(f\"KNN Classification Report:\\n{class_report}\")\n"
      ],
      "metadata": {
        "colab": {
          "base_uri": "https://localhost:8080/"
        },
        "id": "YPkEkZqyNjGI",
        "outputId": "4e7075c1-fc5d-4686-d730-d60c0feb3e81"
      },
      "execution_count": 44,
      "outputs": [
        {
          "output_type": "stream",
          "name": "stdout",
          "text": [
            "KNN Classification Report:\n",
            "              precision    recall  f1-score   support\n",
            "\n",
            "           1       0.03      0.03      0.03      2241\n",
            "           2       0.20      0.08      0.12     27230\n",
            "           3       0.88      0.95      0.91    207726\n",
            "\n",
            "    accuracy                           0.84    237197\n",
            "   macro avg       0.37      0.36      0.35    237197\n",
            "weighted avg       0.80      0.84      0.81    237197\n",
            "\n"
          ]
        }
      ]
    },
    {
      "cell_type": "markdown",
      "source": [
        "#Plot Confusion Matrix"
      ],
      "metadata": {
        "id": "t_m_ygrtNk3g"
      }
    },
    {
      "cell_type": "code",
      "source": [
        "# Draw the confusion matrix using seaborn\n",
        "plt.figure(figsize=(4, 3))\n",
        "sns.heatmap(conf_matrix, annot=True, fmt='d', cmap='Blues',\n",
        "            xticklabels=['Slight', 'Serious', 'Fatal'],\n",
        "            yticklabels=['Slight', 'Serious', 'Fatal'])\n",
        "plt.xlabel('Predicted Label')\n",
        "plt.ylabel('True Label')\n",
        "plt.title('Confusion Matrix for KNN Model with Faiss')\n",
        "plt.show()\n"
      ],
      "metadata": {
        "colab": {
          "base_uri": "https://localhost:8080/",
          "height": 333
        },
        "id": "n40ma4o1NqnN",
        "outputId": "b90e8edd-9880-4ac1-81c0-a13c9ea1a94b"
      },
      "execution_count": 45,
      "outputs": [
        {
          "output_type": "display_data",
          "data": {
            "text/plain": [
              "<Figure size 400x300 with 2 Axes>"
            ],
            "image/png": "[encoded data removed]"
          },
          "metadata": {}
        }
      ]
    },
    {
      "cell_type": "markdown",
      "source": [
        "# Save Model"
      ],
      "metadata": {
        "id": "I0o4DKUgxyHC"
      }
    },
    {
      "cell_type": "code",
      "source": [
        "import pickle\n",
        "from google.colab import files\n",
        "\n",
        "# Store all models and data in a dictionary\n",
        "model_data = {\n",
        "    'scaler': scaler,\n",
        "    'pca': pca,\n",
        "    'faiss_index': index,\n",
        "    'label_mapping': label_mapping,\n",
        "    'accuracy': accuracy,\n",
        "    'confusion_matrix': conf_matrix,\n",
        "    'classification_report': class_report,\n",
        "   # 'y_balanced': y_balanced  # Add this line\n",
        "}\n",
        "\n",
        "# Save the model data dictionary to a single file using pickle\n",
        "with open('Causality_data.pkl', 'wb') as file:\n",
        "    pickle.dump(model_data, file)\n",
        "\n",
        "# Download the saved model data file\n",
        "files.download('Causality_data.pkl')\n"
      ],
      "metadata": {
        "id": "9ULvkbMkHC_i",
        "colab": {
          "base_uri": "https://localhost:8080/",
          "height": 17
        },
        "outputId": "ebd8c9b9-c74a-47df-8b07-02631f77662a"
      },
      "execution_count": 46,
      "outputs": [
        {
          "output_type": "display_data",
          "data": {
            "text/plain": [
              "<IPython.core.display.Javascript object>"
            ],
            "application/javascript": [
              "\n",
              "    async function download(id, filename, size) {\n",
              "      if (!google.colab.kernel.accessAllowed) {\n",
              "        return;\n",
              "      }\n",
              "      const div = document.createElement('div');\n",
              "      const label = document.createElement('label');\n",
              "      label.textContent = `Downloading \"${filename}\": `;\n",
              "      div.appendChild(label);\n",
              "      const progress = document.createElement('progress');\n",
              "      progress.max = size;\n",
              "      div.appendChild(progress);\n",
              "      document.body.appendChild(div);\n",
              "\n",
              "      const buffers = [];\n",
              "      let downloaded = 0;\n",
              "\n",
              "      const channel = await google.colab.kernel.comms.open(id);\n",
              "      // Send a message to notify the kernel that we're ready.\n",
              "      channel.send({})\n",
              "\n",
              "      for await (const message of channel.messages) {\n",
              "        // Send a message to notify the kernel that we're ready.\n",
              "        channel.send({})\n",
              "        if (message.buffers) {\n",
              "          for (const buffer of message.buffers) {\n",
              "            buffers.push(buffer);\n",
              "            downloaded += buffer.byteLength;\n",
              "            progress.value = downloaded;\n",
              "          }\n",
              "        }\n",
              "      }\n",
              "      const blob = new Blob(buffers, {type: 'application/binary'});\n",
              "      const a = document.createElement('a');\n",
              "      a.href = window.URL.createObjectURL(blob);\n",
              "      a.download = filename;\n",
              "      div.appendChild(a);\n",
              "      a.click();\n",
              "      div.remove();\n",
              "    }\n",
              "  "
            ]
          },
          "metadata": {}
        },
        {
          "output_type": "display_data",
          "data": {
            "text/plain": [
              "<IPython.core.display.Javascript object>"
            ],
            "application/javascript": [
              "download(\"download_e12c3fa4-ed75-4881-b9bd-8474a056d6fd\", \"Causality_data.pkl\", 35364279)"
            ]
          },
          "metadata": {}
        }
      ]
    },
    {
      "cell_type": "markdown",
      "source": [
        "#Load Model & Predict\n"
      ],
      "metadata": {
        "id": "DEvPk9ZjD9Vn"
      }
    },
    {
      "cell_type": "code",
      "source": [
        "import numpy as np\n",
        "import pandas as pd\n",
        "import pickle\n",
        "import faiss  # Faiss for efficient KNN\n",
        "from collections import Counter\n",
        "\n",
        "# Load the saved model data\n",
        "with open('Causality_data.pkl', 'rb') as file:\n",
        "    model_data = pickle.load(file)\n",
        "\n",
        "# Extract necessary components from the loaded model data\n",
        "scaler = model_data['scaler']\n",
        "pca = model_data['pca']\n",
        "index = model_data['faiss_index']\n",
        "label_mapping = model_data['label_mapping']\n",
        "\n",
        "# Function to predict using Faiss\n",
        "def faiss_predict(X_test):\n",
        "    # Scale and apply PCA to the test set\n",
        "    X_test_scaled = scaler.transform(X_test)\n",
        "    X_test_pca = pca.transform(X_test_scaled)\n",
        "\n",
        "    # Ensure that X_test_pca is in the float32 format\n",
        "    X_test_pca = np.array(X_test_pca, dtype=np.float32)\n",
        "\n",
        "    # Perform nearest neighbor search\n",
        "    k = 3  # Number of neighbors\n",
        "    distances, indices = index.search(X_test_pca, k)\n",
        "\n",
        "    # Initialize predictions array\n",
        "    y_pred = np.zeros(X_test.shape[0], dtype=int)\n",
        "    for i in range(X_test.shape[0]):\n",
        "        # Get the labels of the nearest neighbors from the original labels\n",
        "        neighbor_labels = y[indices[i]]\n",
        "        # Use majority vote for classification\n",
        "        y_pred[i] = np.bincount(neighbor_labels).argmax()\n",
        "\n",
        "    return y_pred\n",
        "\n",
        "# Function to get user input for features\n",
        "def get_user_input():\n",
        "    sex_of_casualty = int(input(\"Enter Sex of Casualty (0 for Female, 1 for Male): \"))\n",
        "    age_of_casualty = int(input(\"Enter Age of Casualty: \"))\n",
        "    car_passenger = int(input(\"Enter if the casualty was a Car Passenger (0 for No, 1 for Yes): \"))\n",
        "    bus_or_coach_passenger = int(input(\"Enter if the casualty was a Bus/Coach Passenger (0 for No, 1 for Yes): \"))\n",
        "    casualty_type = int(input(\"Enter Casualty Type (1 for Driver, 2 for Passenger, 3 for Pedestrian): \"))\n",
        "\n",
        "    return pd.DataFrame({\n",
        "        'Sex_of_Casualty': [sex_of_casualty],\n",
        "        'Age_of_Casualty': [age_of_casualty],\n",
        "        'Car_Passenger': [car_passenger],\n",
        "        'Bus_or_Coach_Passenger': [bus_or_coach_passenger],\n",
        "        'Casualty_Type': [casualty_type]\n",
        "    })\n",
        "\n",
        "# Get user input\n",
        "X_test_user = get_user_input()\n",
        "\n",
        "# Make predictions on the user input using Faiss\n",
        "y_pred_numeric = faiss_predict(X_test_user)\n",
        "\n",
        "# Map predictions back to original labels\n",
        "y_pred_labels = [label_mapping[label] for label in y_pred_numeric]\n",
        "\n",
        "# Print predictions\n",
        "for pred in y_pred_labels:\n",
        "    print(f\"Predicted Casualty Severity: {pred}\")\n"
      ],
      "metadata": {
        "colab": {
          "base_uri": "https://localhost:8080/"
        },
        "id": "oc3Hye3CC7NU",
        "outputId": "66d1d536-d78a-49db-ef05-dd08e46d9fe6"
      },
      "execution_count": 47,
      "outputs": [
        {
          "output_type": "stream",
          "name": "stdout",
          "text": [
            "Enter Sex of Casualty (0 for Female, 1 for Male): 1\n",
            "Enter Age of Casualty: 55\n",
            "Enter if the casualty was a Car Passenger (0 for No, 1 for Yes): 0\n",
            "Enter if the casualty was a Bus/Coach Passenger (0 for No, 1 for Yes): 0\n",
            "Enter Casualty Type (1 for Driver, 2 for Passenger, 3 for Pedestrian): 2\n",
            "Predicted Casualty Severity: Slight\n"
          ]
        }
      ]
    }
  ]
}