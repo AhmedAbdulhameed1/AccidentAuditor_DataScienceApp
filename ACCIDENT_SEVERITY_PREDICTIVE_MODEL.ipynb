{
  "nbformat": 4,
  "nbformat_minor": 0,
  "metadata": {
    "colab": {
      "provenance": [],
      "include_colab_link": true
    },
    "kernelspec": {
      "name": "python3",
      "display_name": "Python 3"
    },
    "language_info": {
      "name": "python"
    }
  },
  "cells": [
    {
      "cell_type": "markdown",
      "metadata": {
        "id": "view-in-github",
        "colab_type": "text"
      },
      "source": [
        "<a href=\"https://colab.research.google.com/github/ahmedyasser7/DEPI_GP/blob/main/ACCIDENT_SEVERITY_PREDICTIVE_MODEL.ipynb\" target=\"_parent\"><img src=\"https://colab.research.google.com/assets/colab-badge.svg\" alt=\"Open In Colab\"/></a>"
      ]
    },
    {
      "cell_type": "markdown",
      "source": [
        "# **ACCIDENT SEVERITY PREDICTIVE MODEL**"
      ],
      "metadata": {
        "id": "iPmobjux4VQA"
      }
    },
    {
      "cell_type": "markdown",
      "source": [
        "# Uploading The Dataset\n",
        "\n"
      ],
      "metadata": {
        "id": "7-X5uQfVa5Bn"
      }
    },
    {
      "cell_type": "code",
      "source": [
        "from google.colab import files\n",
        "uploaded = files.upload()  # This will prompt you to upload the file"
      ],
      "metadata": {
        "colab": {
          "base_uri": "https://localhost:8080/",
          "height": 73
        },
        "id": "8EI8Bbl2APWe",
        "outputId": "1c237d04-e4b6-4deb-9243-4bb68eb2750a"
      },
      "execution_count": 1,
      "outputs": [
        {
          "output_type": "display_data",
          "data": {
            "text/plain": [
              "<IPython.core.display.HTML object>"
            ],
            "text/html": [
              "\n",
              "     <input type=\"file\" id=\"files-b0ed9696-bc01-4d85-a95b-9ba51980ba0a\" name=\"files[]\" multiple disabled\n",
              "        style=\"border:none\" />\n",
              "     <output id=\"result-b0ed9696-bc01-4d85-a95b-9ba51980ba0a\">\n",
              "      Upload widget is only available when the cell has been executed in the\n",
              "      current browser session. Please rerun this cell to enable.\n",
              "      </output>\n",
              "      <script>// Copyright 2017 Google LLC\n",
              "//\n",
              "// Licensed under the Apache License, Version 2.0 (the \"License\");\n",
              "// you may not use this file except in compliance with the License.\n",
              "// You may obtain a copy of the License at\n",
              "//\n",
              "//      http://www.apache.org/licenses/LICENSE-2.0\n",
              "//\n",
              "// Unless required by applicable law or agreed to in writing, software\n",
              "// distributed under the License is distributed on an \"AS IS\" BASIS,\n",
              "// WITHOUT WARRANTIES OR CONDITIONS OF ANY KIND, either express or implied.\n",
              "// See the License for the specific language governing permissions and\n",
              "// limitations under the License.\n",
              "\n",
              "/**\n",
              " * @fileoverview Helpers for google.colab Python module.\n",
              " */\n",
              "(function(scope) {\n",
              "function span(text, styleAttributes = {}) {\n",
              "  const element = document.createElement('span');\n",
              "  element.textContent = text;\n",
              "  for (const key of Object.keys(styleAttributes)) {\n",
              "    element.style[key] = styleAttributes[key];\n",
              "  }\n",
              "  return element;\n",
              "}\n",
              "\n",
              "// Max number of bytes which will be uploaded at a time.\n",
              "const MAX_PAYLOAD_SIZE = 100 * 1024;\n",
              "\n",
              "function _uploadFiles(inputId, outputId) {\n",
              "  const steps = uploadFilesStep(inputId, outputId);\n",
              "  const outputElement = document.getElementById(outputId);\n",
              "  // Cache steps on the outputElement to make it available for the next call\n",
              "  // to uploadFilesContinue from Python.\n",
              "  outputElement.steps = steps;\n",
              "\n",
              "  return _uploadFilesContinue(outputId);\n",
              "}\n",
              "\n",
              "// This is roughly an async generator (not supported in the browser yet),\n",
              "// where there are multiple asynchronous steps and the Python side is going\n",
              "// to poll for completion of each step.\n",
              "// This uses a Promise to block the python side on completion of each step,\n",
              "// then passes the result of the previous step as the input to the next step.\n",
              "function _uploadFilesContinue(outputId) {\n",
              "  const outputElement = document.getElementById(outputId);\n",
              "  const steps = outputElement.steps;\n",
              "\n",
              "  const next = steps.next(outputElement.lastPromiseValue);\n",
              "  return Promise.resolve(next.value.promise).then((value) => {\n",
              "    // Cache the last promise value to make it available to the next\n",
              "    // step of the generator.\n",
              "    outputElement.lastPromiseValue = value;\n",
              "    return next.value.response;\n",
              "  });\n",
              "}\n",
              "\n",
              "/**\n",
              " * Generator function which is called between each async step of the upload\n",
              " * process.\n",
              " * @param {string} inputId Element ID of the input file picker element.\n",
              " * @param {string} outputId Element ID of the output display.\n",
              " * @return {!Iterable<!Object>} Iterable of next steps.\n",
              " */\n",
              "function* uploadFilesStep(inputId, outputId) {\n",
              "  const inputElement = document.getElementById(inputId);\n",
              "  inputElement.disabled = false;\n",
              "\n",
              "  const outputElement = document.getElementById(outputId);\n",
              "  outputElement.innerHTML = '';\n",
              "\n",
              "  const pickedPromise = new Promise((resolve) => {\n",
              "    inputElement.addEventListener('change', (e) => {\n",
              "      resolve(e.target.files);\n",
              "    });\n",
              "  });\n",
              "\n",
              "  const cancel = document.createElement('button');\n",
              "  inputElement.parentElement.appendChild(cancel);\n",
              "  cancel.textContent = 'Cancel upload';\n",
              "  const cancelPromise = new Promise((resolve) => {\n",
              "    cancel.onclick = () => {\n",
              "      resolve(null);\n",
              "    };\n",
              "  });\n",
              "\n",
              "  // Wait for the user to pick the files.\n",
              "  const files = yield {\n",
              "    promise: Promise.race([pickedPromise, cancelPromise]),\n",
              "    response: {\n",
              "      action: 'starting',\n",
              "    }\n",
              "  };\n",
              "\n",
              "  cancel.remove();\n",
              "\n",
              "  // Disable the input element since further picks are not allowed.\n",
              "  inputElement.disabled = true;\n",
              "\n",
              "  if (!files) {\n",
              "    return {\n",
              "      response: {\n",
              "        action: 'complete',\n",
              "      }\n",
              "    };\n",
              "  }\n",
              "\n",
              "  for (const file of files) {\n",
              "    const li = document.createElement('li');\n",
              "    li.append(span(file.name, {fontWeight: 'bold'}));\n",
              "    li.append(span(\n",
              "        `(${file.type || 'n/a'}) - ${file.size} bytes, ` +\n",
              "        `last modified: ${\n",
              "            file.lastModifiedDate ? file.lastModifiedDate.toLocaleDateString() :\n",
              "                                    'n/a'} - `));\n",
              "    const percent = span('0% done');\n",
              "    li.appendChild(percent);\n",
              "\n",
              "    outputElement.appendChild(li);\n",
              "\n",
              "    const fileDataPromise = new Promise((resolve) => {\n",
              "      const reader = new FileReader();\n",
              "      reader.onload = (e) => {\n",
              "        resolve(e.target.result);\n",
              "      };\n",
              "      reader.readAsArrayBuffer(file);\n",
              "    });\n",
              "    // Wait for the data to be ready.\n",
              "    let fileData = yield {\n",
              "      promise: fileDataPromise,\n",
              "      response: {\n",
              "        action: 'continue',\n",
              "      }\n",
              "    };\n",
              "\n",
              "    // Use a chunked sending to avoid message size limits. See b/62115660.\n",
              "    let position = 0;\n",
              "    do {\n",
              "      const length = Math.min(fileData.byteLength - position, MAX_PAYLOAD_SIZE);\n",
              "      const chunk = new Uint8Array(fileData, position, length);\n",
              "      position += length;\n",
              "\n",
              "      const base64 = btoa(String.fromCharCode.apply(null, chunk));\n",
              "      yield {\n",
              "        response: {\n",
              "          action: 'append',\n",
              "          file: file.name,\n",
              "          data: base64,\n",
              "        },\n",
              "      };\n",
              "\n",
              "      let percentDone = fileData.byteLength === 0 ?\n",
              "          100 :\n",
              "          Math.round((position / fileData.byteLength) * 100);\n",
              "      percent.textContent = `${percentDone}% done`;\n",
              "\n",
              "    } while (position < fileData.byteLength);\n",
              "  }\n",
              "\n",
              "  // All done.\n",
              "  yield {\n",
              "    response: {\n",
              "      action: 'complete',\n",
              "    }\n",
              "  };\n",
              "}\n",
              "\n",
              "scope.google = scope.google || {};\n",
              "scope.google.colab = scope.google.colab || {};\n",
              "scope.google.colab._files = {\n",
              "  _uploadFiles,\n",
              "  _uploadFilesContinue,\n",
              "};\n",
              "})(self);\n",
              "</script> "
            ]
          },
          "metadata": {}
        },
        {
          "output_type": "stream",
          "name": "stdout",
          "text": [
            "Saving accident cleaned data.csv to accident cleaned data.csv\n"
          ]
        }
      ]
    },
    {
      "cell_type": "markdown",
      "source": [
        "# Importing Libraries"
      ],
      "metadata": {
        "id": "OOJ25pDR4WqY"
      }
    },
    {
      "cell_type": "code",
      "execution_count": 2,
      "metadata": {
        "id": "zbBUBBdc-D2g"
      },
      "outputs": [],
      "source": [
        "# Import Libraries\n",
        "import pandas as pd\n",
        "from sklearn.model_selection import train_test_split, RandomizedSearchCV\n",
        "from sklearn.metrics import accuracy_score, classification_report, confusion_matrix\n",
        "from sklearn.tree import DecisionTreeClassifier\n",
        "import matplotlib.pyplot as plt\n",
        "import seaborn as sns\n",
        "from sklearn.preprocessing import StandardScaler\n",
        "\n"
      ]
    },
    {
      "cell_type": "markdown",
      "source": [
        "#Loading the Data"
      ],
      "metadata": {
        "id": "6HLdJkIG4erX"
      }
    },
    {
      "cell_type": "code",
      "source": [
        "# Load the 'accident cleaned data.csv' dataset\n",
        "df =  pd.read_csv('/content/accident cleaned data.csv')\n",
        "\n",
        "# Check the first few rows\n",
        "df.head()"
      ],
      "metadata": {
        "id": "A4kMuqoKWSAq",
        "colab": {
          "base_uri": "https://localhost:8080/",
          "height": 313
        },
        "outputId": "e84c9229-3ffc-40db-c70e-ecee922b6959"
      },
      "execution_count": 27,
      "outputs": [
        {
          "output_type": "execute_result",
          "data": {
            "text/plain": [
              "  Accident_Index  Longitude   Latitude  Accident_Severity  Number_of_Vehicles  \\\n",
              "0  200901BS70001  -0.201349  51.512273                  2                   2   \n",
              "1  200901BS70002  -0.199248  51.514399                  2                   2   \n",
              "2  200901BS70003  -0.179599  51.486668                  3                   2   \n",
              "3  200901BS70004  -0.203110  51.507804                  2                   2   \n",
              "4  200901BS70005  -0.173445  51.482076                  2                   2   \n",
              "\n",
              "   Number_of_Casualties        Date  Day_of_Week      Time  \\\n",
              "0                     1  2009-01-01            5  15:11:00   \n",
              "1                    11  2009-01-05            2  10:59:00   \n",
              "2                     1  2009-01-04            1  14:19:00   \n",
              "3                     1  2009-01-05            2  08:10:00   \n",
              "4                     1  2009-01-06            3  17:25:00   \n",
              "\n",
              "   Local_Authority_(District) Local_Authority_(Highway)  Speed_limit  \\\n",
              "0                          12                 E09000020           30   \n",
              "1                          12                 E09000020           30   \n",
              "2                          12                 E09000020           30   \n",
              "3                          12                 E09000020           30   \n",
              "4                          12                 E09000020           30   \n",
              "\n",
              "   Light_Conditions  Weather_Conditions  Road_Surface_Conditions  \\\n",
              "0                 1                   1                        1   \n",
              "1                 1                   1                        2   \n",
              "2                 1                   1                        1   \n",
              "3                 1                   8                        4   \n",
              "4                 4                   1                        1   \n",
              "\n",
              "   Special_Conditions_at_Site  Urban_or_Rural_Area  \n",
              "0                           0                    1  \n",
              "1                           0                    1  \n",
              "2                           0                    1  \n",
              "3                           0                    1  \n",
              "4                           0                    1  "
            ],
            "text/html": [
              "\n",
              "  <div id=\"df-53521490-ae39-4be7-b10b-113df99db53f\" class=\"colab-df-container\">\n",
              "    <div>\n",
              "<style scoped>\n",
              "    .dataframe tbody tr th:only-of-type {\n",
              "        vertical-align: middle;\n",
              "    }\n",
              "\n",
              "    .dataframe tbody tr th {\n",
              "        vertical-align: top;\n",
              "    }\n",
              "\n",
              "    .dataframe thead th {\n",
              "        text-align: right;\n",
              "    }\n",
              "</style>\n",
              "<table border=\"1\" class=\"dataframe\">\n",
              "  <thead>\n",
              "    <tr style=\"text-align: right;\">\n",
              "      <th></th>\n",
              "      <th>Accident_Index</th>\n",
              "      <th>Longitude</th>\n",
              "      <th>Latitude</th>\n",
              "      <th>Accident_Severity</th>\n",
              "      <th>Number_of_Vehicles</th>\n",
              "      <th>Number_of_Casualties</th>\n",
              "      <th>Date</th>\n",
              "      <th>Day_of_Week</th>\n",
              "      <th>Time</th>\n",
              "      <th>Local_Authority_(District)</th>\n",
              "      <th>Local_Authority_(Highway)</th>\n",
              "      <th>Speed_limit</th>\n",
              "      <th>Light_Conditions</th>\n",
              "      <th>Weather_Conditions</th>\n",
              "      <th>Road_Surface_Conditions</th>\n",
              "      <th>Special_Conditions_at_Site</th>\n",
              "      <th>Urban_or_Rural_Area</th>\n",
              "    </tr>\n",
              "  </thead>\n",
              "  <tbody>\n",
              "    <tr>\n",
              "      <th>0</th>\n",
              "      <td>200901BS70001</td>\n",
              "      <td>-0.201349</td>\n",
              "      <td>51.512273</td>\n",
              "      <td>2</td>\n",
              "      <td>2</td>\n",
              "      <td>1</td>\n",
              "      <td>2009-01-01</td>\n",
              "      <td>5</td>\n",
              "      <td>15:11:00</td>\n",
              "      <td>12</td>\n",
              "      <td>E09000020</td>\n",
              "      <td>30</td>\n",
              "      <td>1</td>\n",
              "      <td>1</td>\n",
              "      <td>1</td>\n",
              "      <td>0</td>\n",
              "      <td>1</td>\n",
              "    </tr>\n",
              "    <tr>\n",
              "      <th>1</th>\n",
              "      <td>200901BS70002</td>\n",
              "      <td>-0.199248</td>\n",
              "      <td>51.514399</td>\n",
              "      <td>2</td>\n",
              "      <td>2</td>\n",
              "      <td>11</td>\n",
              "      <td>2009-01-05</td>\n",
              "      <td>2</td>\n",
              "      <td>10:59:00</td>\n",
              "      <td>12</td>\n",
              "      <td>E09000020</td>\n",
              "      <td>30</td>\n",
              "      <td>1</td>\n",
              "      <td>1</td>\n",
              "      <td>2</td>\n",
              "      <td>0</td>\n",
              "      <td>1</td>\n",
              "    </tr>\n",
              "    <tr>\n",
              "      <th>2</th>\n",
              "      <td>200901BS70003</td>\n",
              "      <td>-0.179599</td>\n",
              "      <td>51.486668</td>\n",
              "      <td>3</td>\n",
              "      <td>2</td>\n",
              "      <td>1</td>\n",
              "      <td>2009-01-04</td>\n",
              "      <td>1</td>\n",
              "      <td>14:19:00</td>\n",
              "      <td>12</td>\n",
              "      <td>E09000020</td>\n",
              "      <td>30</td>\n",
              "      <td>1</td>\n",
              "      <td>1</td>\n",
              "      <td>1</td>\n",
              "      <td>0</td>\n",
              "      <td>1</td>\n",
              "    </tr>\n",
              "    <tr>\n",
              "      <th>3</th>\n",
              "      <td>200901BS70004</td>\n",
              "      <td>-0.203110</td>\n",
              "      <td>51.507804</td>\n",
              "      <td>2</td>\n",
              "      <td>2</td>\n",
              "      <td>1</td>\n",
              "      <td>2009-01-05</td>\n",
              "      <td>2</td>\n",
              "      <td>08:10:00</td>\n",
              "      <td>12</td>\n",
              "      <td>E09000020</td>\n",
              "      <td>30</td>\n",
              "      <td>1</td>\n",
              "      <td>8</td>\n",
              "      <td>4</td>\n",
              "      <td>0</td>\n",
              "      <td>1</td>\n",
              "    </tr>\n",
              "    <tr>\n",
              "      <th>4</th>\n",
              "      <td>200901BS70005</td>\n",
              "      <td>-0.173445</td>\n",
              "      <td>51.482076</td>\n",
              "      <td>2</td>\n",
              "      <td>2</td>\n",
              "      <td>1</td>\n",
              "      <td>2009-01-06</td>\n",
              "      <td>3</td>\n",
              "      <td>17:25:00</td>\n",
              "      <td>12</td>\n",
              "      <td>E09000020</td>\n",
              "      <td>30</td>\n",
              "      <td>4</td>\n",
              "      <td>1</td>\n",
              "      <td>1</td>\n",
              "      <td>0</td>\n",
              "      <td>1</td>\n",
              "    </tr>\n",
              "  </tbody>\n",
              "</table>\n",
              "</div>\n",
              "    <div class=\"colab-df-buttons\">\n",
              "\n",
              "  <div class=\"colab-df-container\">\n",
              "    <button class=\"colab-df-convert\" onclick=\"convertToInteractive('df-53521490-ae39-4be7-b10b-113df99db53f')\"\n",
              "            title=\"Convert this dataframe to an interactive table.\"\n",
              "            style=\"display:none;\">\n",
              "\n",
              "  <svg xmlns=\"http://www.w3.org/2000/svg\" height=\"24px\" viewBox=\"0 -960 960 960\">\n",
              "    <path d=\"M120-120v-720h720v720H120Zm60-500h600v-160H180v160Zm220 220h160v-160H400v160Zm0 220h160v-160H400v160ZM180-400h160v-160H180v160Zm440 0h160v-160H620v160ZM180-180h160v-160H180v160Zm440 0h160v-160H620v160Z\"/>\n",
              "  </svg>\n",
              "    </button>\n",
              "\n",
              "  <style>\n",
              "    .colab-df-container {\n",
              "      display:flex;\n",
              "      gap: 12px;\n",
              "    }\n",
              "\n",
              "    .colab-df-convert {\n",
              "      background-color: #E8F0FE;\n",
              "      border: none;\n",
              "      border-radius: 50%;\n",
              "      cursor: pointer;\n",
              "      display: none;\n",
              "      fill: #1967D2;\n",
              "      height: 32px;\n",
              "      padding: 0 0 0 0;\n",
              "      width: 32px;\n",
              "    }\n",
              "\n",
              "    .colab-df-convert:hover {\n",
              "      background-color: #E2EBFA;\n",
              "      box-shadow: 0px 1px 2px rgba(60, 64, 67, 0.3), 0px 1px 3px 1px rgba(60, 64, 67, 0.15);\n",
              "      fill: #174EA6;\n",
              "    }\n",
              "\n",
              "    .colab-df-buttons div {\n",
              "      margin-bottom: 4px;\n",
              "    }\n",
              "\n",
              "    [theme=dark] .colab-df-convert {\n",
              "      background-color: #3B4455;\n",
              "      fill: #D2E3FC;\n",
              "    }\n",
              "\n",
              "    [theme=dark] .colab-df-convert:hover {\n",
              "      background-color: #434B5C;\n",
              "      box-shadow: 0px 1px 3px 1px rgba(0, 0, 0, 0.15);\n",
              "      filter: drop-shadow(0px 1px 2px rgba(0, 0, 0, 0.3));\n",
              "      fill: #FFFFFF;\n",
              "    }\n",
              "  </style>\n",
              "\n",
              "    <script>\n",
              "      const buttonEl =\n",
              "        document.querySelector('#df-53521490-ae39-4be7-b10b-113df99db53f button.colab-df-convert');\n",
              "      buttonEl.style.display =\n",
              "        google.colab.kernel.accessAllowed ? 'block' : 'none';\n",
              "\n",
              "      async function convertToInteractive(key) {\n",
              "        const element = document.querySelector('#df-53521490-ae39-4be7-b10b-113df99db53f');\n",
              "        const dataTable =\n",
              "          await google.colab.kernel.invokeFunction('convertToInteractive',\n",
              "                                                    [key], {});\n",
              "        if (!dataTable) return;\n",
              "\n",
              "        const docLinkHtml = 'Like what you see? Visit the ' +\n",
              "          '<a target=\"_blank\" href=https://colab.research.google.com/notebooks/data_table.ipynb>data table notebook</a>'\n",
              "          + ' to learn more about interactive tables.';\n",
              "        element.innerHTML = '';\n",
              "        dataTable['output_type'] = 'display_data';\n",
              "        await google.colab.output.renderOutput(dataTable, element);\n",
              "        const docLink = document.createElement('div');\n",
              "        docLink.innerHTML = docLinkHtml;\n",
              "        element.appendChild(docLink);\n",
              "      }\n",
              "    </script>\n",
              "  </div>\n",
              "\n",
              "\n",
              "<div id=\"df-4816d8f4-b388-4e75-8a9e-5af1aa74b6d0\">\n",
              "  <button class=\"colab-df-quickchart\" onclick=\"quickchart('df-4816d8f4-b388-4e75-8a9e-5af1aa74b6d0')\"\n",
              "            title=\"Suggest charts\"\n",
              "            style=\"display:none;\">\n",
              "\n",
              "<svg xmlns=\"http://www.w3.org/2000/svg\" height=\"24px\"viewBox=\"0 0 24 24\"\n",
              "     width=\"24px\">\n",
              "    <g>\n",
              "        <path d=\"M19 3H5c-1.1 0-2 .9-2 2v14c0 1.1.9 2 2 2h14c1.1 0 2-.9 2-2V5c0-1.1-.9-2-2-2zM9 17H7v-7h2v7zm4 0h-2V7h2v10zm4 0h-2v-4h2v4z\"/>\n",
              "    </g>\n",
              "</svg>\n",
              "  </button>\n",
              "\n",
              "<style>\n",
              "  .colab-df-quickchart {\n",
              "      --bg-color: #E8F0FE;\n",
              "      --fill-color: #1967D2;\n",
              "      --hover-bg-color: #E2EBFA;\n",
              "      --hover-fill-color: #174EA6;\n",
              "      --disabled-fill-color: #AAA;\n",
              "      --disabled-bg-color: #DDD;\n",
              "  }\n",
              "\n",
              "  [theme=dark] .colab-df-quickchart {\n",
              "      --bg-color: #3B4455;\n",
              "      --fill-color: #D2E3FC;\n",
              "      --hover-bg-color: #434B5C;\n",
              "      --hover-fill-color: #FFFFFF;\n",
              "      --disabled-bg-color: #3B4455;\n",
              "      --disabled-fill-color: #666;\n",
              "  }\n",
              "\n",
              "  .colab-df-quickchart {\n",
              "    background-color: var(--bg-color);\n",
              "    border: none;\n",
              "    border-radius: 50%;\n",
              "    cursor: pointer;\n",
              "    display: none;\n",
              "    fill: var(--fill-color);\n",
              "    height: 32px;\n",
              "    padding: 0;\n",
              "    width: 32px;\n",
              "  }\n",
              "\n",
              "  .colab-df-quickchart:hover {\n",
              "    background-color: var(--hover-bg-color);\n",
              "    box-shadow: 0 1px 2px rgba(60, 64, 67, 0.3), 0 1px 3px 1px rgba(60, 64, 67, 0.15);\n",
              "    fill: var(--button-hover-fill-color);\n",
              "  }\n",
              "\n",
              "  .colab-df-quickchart-complete:disabled,\n",
              "  .colab-df-quickchart-complete:disabled:hover {\n",
              "    background-color: var(--disabled-bg-color);\n",
              "    fill: var(--disabled-fill-color);\n",
              "    box-shadow: none;\n",
              "  }\n",
              "\n",
              "  .colab-df-spinner {\n",
              "    border: 2px solid var(--fill-color);\n",
              "    border-color: transparent;\n",
              "    border-bottom-color: var(--fill-color);\n",
              "    animation:\n",
              "      spin 1s steps(1) infinite;\n",
              "  }\n",
              "\n",
              "  @keyframes spin {\n",
              "    0% {\n",
              "      border-color: transparent;\n",
              "      border-bottom-color: var(--fill-color);\n",
              "      border-left-color: var(--fill-color);\n",
              "    }\n",
              "    20% {\n",
              "      border-color: transparent;\n",
              "      border-left-color: var(--fill-color);\n",
              "      border-top-color: var(--fill-color);\n",
              "    }\n",
              "    30% {\n",
              "      border-color: transparent;\n",
              "      border-left-color: var(--fill-color);\n",
              "      border-top-color: var(--fill-color);\n",
              "      border-right-color: var(--fill-color);\n",
              "    }\n",
              "    40% {\n",
              "      border-color: transparent;\n",
              "      border-right-color: var(--fill-color);\n",
              "      border-top-color: var(--fill-color);\n",
              "    }\n",
              "    60% {\n",
              "      border-color: transparent;\n",
              "      border-right-color: var(--fill-color);\n",
              "    }\n",
              "    80% {\n",
              "      border-color: transparent;\n",
              "      border-right-color: var(--fill-color);\n",
              "      border-bottom-color: var(--fill-color);\n",
              "    }\n",
              "    90% {\n",
              "      border-color: transparent;\n",
              "      border-bottom-color: var(--fill-color);\n",
              "    }\n",
              "  }\n",
              "</style>\n",
              "\n",
              "  <script>\n",
              "    async function quickchart(key) {\n",
              "      const quickchartButtonEl =\n",
              "        document.querySelector('#' + key + ' button');\n",
              "      quickchartButtonEl.disabled = true;  // To prevent multiple clicks.\n",
              "      quickchartButtonEl.classList.add('colab-df-spinner');\n",
              "      try {\n",
              "        const charts = await google.colab.kernel.invokeFunction(\n",
              "            'suggestCharts', [key], {});\n",
              "      } catch (error) {\n",
              "        console.error('Error during call to suggestCharts:', error);\n",
              "      }\n",
              "      quickchartButtonEl.classList.remove('colab-df-spinner');\n",
              "      quickchartButtonEl.classList.add('colab-df-quickchart-complete');\n",
              "    }\n",
              "    (() => {\n",
              "      let quickchartButtonEl =\n",
              "        document.querySelector('#df-4816d8f4-b388-4e75-8a9e-5af1aa74b6d0 button');\n",
              "      quickchartButtonEl.style.display =\n",
              "        google.colab.kernel.accessAllowed ? 'block' : 'none';\n",
              "    })();\n",
              "  </script>\n",
              "</div>\n",
              "\n",
              "    </div>\n",
              "  </div>\n"
            ],
            "application/vnd.google.colaboratory.intrinsic+json": {
              "type": "dataframe",
              "variable_name": "df"
            }
          },
          "metadata": {},
          "execution_count": 27
        }
      ]
    },
    {
      "cell_type": "markdown",
      "source": [
        "#Exploring & Preprocessing the Data"
      ],
      "metadata": {
        "id": "F7qXlq-Q4gq4"
      }
    },
    {
      "cell_type": "code",
      "source": [
        "# Check for missing values\n",
        "df.isnull().sum()"
      ],
      "metadata": {
        "colab": {
          "base_uri": "https://localhost:8080/",
          "height": 617
        },
        "id": "ArrWstERlix3",
        "outputId": "d41f7326-df24-44e5-fa9f-83336fc13d2b"
      },
      "execution_count": 28,
      "outputs": [
        {
          "output_type": "execute_result",
          "data": {
            "text/plain": [
              "Accident_Index                0\n",
              "Longitude                     0\n",
              "Latitude                      0\n",
              "Accident_Severity             0\n",
              "Number_of_Vehicles            0\n",
              "Number_of_Casualties          0\n",
              "Date                          0\n",
              "Day_of_Week                   0\n",
              "Time                          0\n",
              "Local_Authority_(District)    0\n",
              "Local_Authority_(Highway)     0\n",
              "Speed_limit                   0\n",
              "Light_Conditions              0\n",
              "Weather_Conditions            0\n",
              "Road_Surface_Conditions       0\n",
              "Special_Conditions_at_Site    0\n",
              "Urban_or_Rural_Area           0\n",
              "dtype: int64"
            ],
            "text/html": [
              "<div>\n",
              "<style scoped>\n",
              "    .dataframe tbody tr th:only-of-type {\n",
              "        vertical-align: middle;\n",
              "    }\n",
              "\n",
              "    .dataframe tbody tr th {\n",
              "        vertical-align: top;\n",
              "    }\n",
              "\n",
              "    .dataframe thead th {\n",
              "        text-align: right;\n",
              "    }\n",
              "</style>\n",
              "<table border=\"1\" class=\"dataframe\">\n",
              "  <thead>\n",
              "    <tr style=\"text-align: right;\">\n",
              "      <th></th>\n",
              "      <th>0</th>\n",
              "    </tr>\n",
              "  </thead>\n",
              "  <tbody>\n",
              "    <tr>\n",
              "      <th>Accident_Index</th>\n",
              "      <td>0</td>\n",
              "    </tr>\n",
              "    <tr>\n",
              "      <th>Longitude</th>\n",
              "      <td>0</td>\n",
              "    </tr>\n",
              "    <tr>\n",
              "      <th>Latitude</th>\n",
              "      <td>0</td>\n",
              "    </tr>\n",
              "    <tr>\n",
              "      <th>Accident_Severity</th>\n",
              "      <td>0</td>\n",
              "    </tr>\n",
              "    <tr>\n",
              "      <th>Number_of_Vehicles</th>\n",
              "      <td>0</td>\n",
              "    </tr>\n",
              "    <tr>\n",
              "      <th>Number_of_Casualties</th>\n",
              "      <td>0</td>\n",
              "    </tr>\n",
              "    <tr>\n",
              "      <th>Date</th>\n",
              "      <td>0</td>\n",
              "    </tr>\n",
              "    <tr>\n",
              "      <th>Day_of_Week</th>\n",
              "      <td>0</td>\n",
              "    </tr>\n",
              "    <tr>\n",
              "      <th>Time</th>\n",
              "      <td>0</td>\n",
              "    </tr>\n",
              "    <tr>\n",
              "      <th>Local_Authority_(District)</th>\n",
              "      <td>0</td>\n",
              "    </tr>\n",
              "    <tr>\n",
              "      <th>Local_Authority_(Highway)</th>\n",
              "      <td>0</td>\n",
              "    </tr>\n",
              "    <tr>\n",
              "      <th>Speed_limit</th>\n",
              "      <td>0</td>\n",
              "    </tr>\n",
              "    <tr>\n",
              "      <th>Light_Conditions</th>\n",
              "      <td>0</td>\n",
              "    </tr>\n",
              "    <tr>\n",
              "      <th>Weather_Conditions</th>\n",
              "      <td>0</td>\n",
              "    </tr>\n",
              "    <tr>\n",
              "      <th>Road_Surface_Conditions</th>\n",
              "      <td>0</td>\n",
              "    </tr>\n",
              "    <tr>\n",
              "      <th>Special_Conditions_at_Site</th>\n",
              "      <td>0</td>\n",
              "    </tr>\n",
              "    <tr>\n",
              "      <th>Urban_or_Rural_Area</th>\n",
              "      <td>0</td>\n",
              "    </tr>\n",
              "  </tbody>\n",
              "</table>\n",
              "</div><br><label><b>dtype:</b> int64</label>"
            ]
          },
          "metadata": {},
          "execution_count": 28
        }
      ]
    },
    {
      "cell_type": "code",
      "source": [
        "# Check for duplicate values\n",
        "df.duplicated().sum()"
      ],
      "metadata": {
        "colab": {
          "base_uri": "https://localhost:8080/"
        },
        "id": "NMmAVFkfGx09",
        "outputId": "2ccb5d48-6d0b-4aee-8b9b-c73d31c68ed6"
      },
      "execution_count": 29,
      "outputs": [
        {
          "output_type": "execute_result",
          "data": {
            "text/plain": [
              "0"
            ]
          },
          "metadata": {},
          "execution_count": 29
        }
      ]
    },
    {
      "cell_type": "code",
      "source": [
        "print(df.shape)"
      ],
      "metadata": {
        "colab": {
          "base_uri": "https://localhost:8080/"
        },
        "id": "0aPtxb11li0P",
        "outputId": "8ea05b41-2e54-447b-a085-f7a9f2cd68ad"
      },
      "execution_count": 30,
      "outputs": [
        {
          "output_type": "stream",
          "name": "stdout",
          "text": [
            "(898555, 17)\n"
          ]
        }
      ]
    },
    {
      "cell_type": "code",
      "source": [
        "# Get information about the dataset\n",
        "print(df.info())"
      ],
      "metadata": {
        "colab": {
          "base_uri": "https://localhost:8080/"
        },
        "id": "vCgsEBWyli2Y",
        "outputId": "a9d6fdd0-f291-409f-9e77-eed607bde7ba"
      },
      "execution_count": 31,
      "outputs": [
        {
          "output_type": "stream",
          "name": "stdout",
          "text": [
            "<class 'pandas.core.frame.DataFrame'>\n",
            "RangeIndex: 898555 entries, 0 to 898554\n",
            "Data columns (total 17 columns):\n",
            " #   Column                      Non-Null Count   Dtype  \n",
            "---  ------                      --------------   -----  \n",
            " 0   Accident_Index              898555 non-null  object \n",
            " 1   Longitude                   898555 non-null  float64\n",
            " 2   Latitude                    898555 non-null  float64\n",
            " 3   Accident_Severity           898555 non-null  int64  \n",
            " 4   Number_of_Vehicles          898555 non-null  int64  \n",
            " 5   Number_of_Casualties        898555 non-null  int64  \n",
            " 6   Date                        898555 non-null  object \n",
            " 7   Day_of_Week                 898555 non-null  int64  \n",
            " 8   Time                        898555 non-null  object \n",
            " 9   Local_Authority_(District)  898555 non-null  int64  \n",
            " 10  Local_Authority_(Highway)   898555 non-null  object \n",
            " 11  Speed_limit                 898555 non-null  int64  \n",
            " 12  Light_Conditions            898555 non-null  int64  \n",
            " 13  Weather_Conditions          898555 non-null  int64  \n",
            " 14  Road_Surface_Conditions     898555 non-null  int64  \n",
            " 15  Special_Conditions_at_Site  898555 non-null  int64  \n",
            " 16  Urban_or_Rural_Area         898555 non-null  int64  \n",
            "dtypes: float64(2), int64(11), object(4)\n",
            "memory usage: 116.5+ MB\n",
            "None\n"
          ]
        }
      ]
    },
    {
      "cell_type": "markdown",
      "source": [
        "we will:\n",
        "- drop (Accident_Index, Date, Time) as they don't contribute to predicting \"Accident Severity\".\n",
        "- Keep all the other columns.\n",
        "- Encode categorical columns like Local_Authority_(Highway) using One-Hot Encoding.\n"
      ],
      "metadata": {
        "id": "J-R8ZFXO4rFq"
      }
    },
    {
      "cell_type": "markdown",
      "source": [
        "## Drop Irrelevant Columns"
      ],
      "metadata": {
        "id": "h184YpQB4v5_"
      }
    },
    {
      "cell_type": "code",
      "source": [
        "# Drop irrelevant columns\n",
        "df = df.drop(['Accident_Index', 'Date', 'Time','Local_Authority_(Highway)'], axis=1)"
      ],
      "metadata": {
        "id": "A5VCcHf_li4B"
      },
      "execution_count": 32,
      "outputs": []
    },
    {
      "cell_type": "markdown",
      "source": [
        "## Check for Numeric Features"
      ],
      "metadata": {
        "id": "oVKCFn6A44gR"
      }
    },
    {
      "cell_type": "code",
      "source": [
        "# Check if all features are numeric\n",
        "print(df.dtypes)"
      ],
      "metadata": {
        "colab": {
          "base_uri": "https://localhost:8080/"
        },
        "id": "0yYSssWvmCs7",
        "outputId": "ac4a3e27-ab50-4e66-ceee-f6b8288e23c8"
      },
      "execution_count": 33,
      "outputs": [
        {
          "output_type": "stream",
          "name": "stdout",
          "text": [
            "Longitude                     float64\n",
            "Latitude                      float64\n",
            "Accident_Severity               int64\n",
            "Number_of_Vehicles              int64\n",
            "Number_of_Casualties            int64\n",
            "Day_of_Week                     int64\n",
            "Local_Authority_(District)      int64\n",
            "Speed_limit                     int64\n",
            "Light_Conditions                int64\n",
            "Weather_Conditions              int64\n",
            "Road_Surface_Conditions         int64\n",
            "Special_Conditions_at_Site      int64\n",
            "Urban_or_Rural_Area             int64\n",
            "dtype: object\n"
          ]
        }
      ]
    },
    {
      "cell_type": "code",
      "source": [
        "# Convert boolean columns to integers (0 and 1)\n",
        "df = df.astype(int)  # Convert all columns to int, ensure they are all numeric"
      ],
      "metadata": {
        "id": "p1KFH4C2mEiz"
      },
      "execution_count": 34,
      "outputs": []
    },
    {
      "cell_type": "code",
      "source": [
        "# Check the data types after conversion\n",
        "print(df.dtypes)"
      ],
      "metadata": {
        "colab": {
          "base_uri": "https://localhost:8080/"
        },
        "id": "DvQOLEnMmG1E",
        "outputId": "351a780a-d674-4dbe-b95c-0d3d819c0f81"
      },
      "execution_count": 35,
      "outputs": [
        {
          "output_type": "stream",
          "name": "stdout",
          "text": [
            "Longitude                     int64\n",
            "Latitude                      int64\n",
            "Accident_Severity             int64\n",
            "Number_of_Vehicles            int64\n",
            "Number_of_Casualties          int64\n",
            "Day_of_Week                   int64\n",
            "Local_Authority_(District)    int64\n",
            "Speed_limit                   int64\n",
            "Light_Conditions              int64\n",
            "Weather_Conditions            int64\n",
            "Road_Surface_Conditions       int64\n",
            "Special_Conditions_at_Site    int64\n",
            "Urban_or_Rural_Area           int64\n",
            "dtype: object\n"
          ]
        }
      ]
    },
    {
      "cell_type": "markdown",
      "source": [
        "## Handling Class Imbalance\n"
      ],
      "metadata": {
        "id": "5fqLY3xR5JyG"
      }
    },
    {
      "cell_type": "code",
      "source": [
        "accident_severity_counts = df['Accident_Severity'].value_counts()\n",
        "accident_severity_counts"
      ],
      "metadata": {
        "colab": {
          "base_uri": "https://localhost:8080/",
          "height": 209
        },
        "id": "26mKNPRhmJd7",
        "outputId": "704ec79e-1958-4bc2-e637-93d5554dc6d2"
      },
      "execution_count": 36,
      "outputs": [
        {
          "output_type": "execute_result",
          "data": {
            "text/plain": [
              "Accident_Severity\n",
              "3    763607\n",
              "2    124471\n",
              "1     10477\n",
              "Name: count, dtype: int64"
            ],
            "text/html": [
              "<div>\n",
              "<style scoped>\n",
              "    .dataframe tbody tr th:only-of-type {\n",
              "        vertical-align: middle;\n",
              "    }\n",
              "\n",
              "    .dataframe tbody tr th {\n",
              "        vertical-align: top;\n",
              "    }\n",
              "\n",
              "    .dataframe thead th {\n",
              "        text-align: right;\n",
              "    }\n",
              "</style>\n",
              "<table border=\"1\" class=\"dataframe\">\n",
              "  <thead>\n",
              "    <tr style=\"text-align: right;\">\n",
              "      <th></th>\n",
              "      <th>count</th>\n",
              "    </tr>\n",
              "    <tr>\n",
              "      <th>Accident_Severity</th>\n",
              "      <th></th>\n",
              "    </tr>\n",
              "  </thead>\n",
              "  <tbody>\n",
              "    <tr>\n",
              "      <th>3</th>\n",
              "      <td>763607</td>\n",
              "    </tr>\n",
              "    <tr>\n",
              "      <th>2</th>\n",
              "      <td>124471</td>\n",
              "    </tr>\n",
              "    <tr>\n",
              "      <th>1</th>\n",
              "      <td>10477</td>\n",
              "    </tr>\n",
              "  </tbody>\n",
              "</table>\n",
              "</div><br><label><b>dtype:</b> int64</label>"
            ]
          },
          "metadata": {},
          "execution_count": 36
        }
      ]
    },
    {
      "cell_type": "code",
      "source": [
        "\n",
        "# Adjusting the target variable to start from 0\n",
        "df['Accident_Severity'] = df['Accident_Severity'] - 1  # Convert 1, 2, 3 to 0, 1, 2"
      ],
      "metadata": {
        "id": "EsxPjsqTmO85"
      },
      "execution_count": 37,
      "outputs": []
    },
    {
      "cell_type": "markdown",
      "source": [
        "# Model Selection & Training"
      ],
      "metadata": {
        "id": "6Q1M6za7pNXW"
      }
    },
    {
      "cell_type": "markdown",
      "source": [
        "#Train-Test Split"
      ],
      "metadata": {
        "id": "2_okPz1kpSm-"
      }
    },
    {
      "cell_type": "code",
      "source": [
        "# Split the dataset into features and target variable\n",
        "X = df.drop('Accident_Severity', axis=1)\n",
        "y = df['Accident_Severity']\n",
        "\n",
        "# Train-test split\n",
        "X_train, X_test, y_train, y_test = train_test_split(X, y, test_size=0.2, random_state=42)\n"
      ],
      "metadata": {
        "id": "EajR_jW6mGEQ"
      },
      "execution_count": 38,
      "outputs": []
    },
    {
      "cell_type": "markdown",
      "source": [
        "#Feature Scaling"
      ],
      "metadata": {
        "id": "XB1R7BIFpQmT"
      }
    },
    {
      "cell_type": "code",
      "source": [
        "\n",
        "# Initialize the StandardScaler and scale features\n",
        "scaler = StandardScaler()\n",
        "X_train_scaled = scaler.fit_transform(X_train)\n",
        "X_test_scaled = scaler.transform(X_test)"
      ],
      "metadata": {
        "id": "96h8Tpm3n101"
      },
      "execution_count": 39,
      "outputs": []
    },
    {
      "cell_type": "markdown",
      "source": [
        "#Define the Evaluation Functions"
      ],
      "metadata": {
        "id": "rqT4KDalpeWT"
      }
    },
    {
      "cell_type": "code",
      "source": [
        "# Function to calculate accuracy\n",
        "def calculate_accuracy(model, X_test, y_test):\n",
        "    y_pred = model.predict(X_test)\n",
        "    accuracy = accuracy_score(y_test, y_pred)\n",
        "    return accuracy\n",
        "\n",
        "# Function to generate classification report\n",
        "def generate_classification_report(model, X_test, y_test):\n",
        "    y_pred = model.predict(X_test)\n",
        "    report = classification_report(y_test, y_pred, output_dict=True)\n",
        "    return report\n",
        "\n",
        "# Function to generate confusion matrix\n",
        "def generate_confusion_matrix(model, X_test, y_test):\n",
        "    y_pred = model.predict(X_test)\n",
        "    return confusion_matrix(y_test, y_pred)\n",
        "\n",
        "# Mapping function to convert numerical labels to string labels\n",
        "def map_predictions(y):\n",
        "    return ['Slight' if x == 1 else 'Serious' if x == 2 else 'Fatal' for x in y]"
      ],
      "metadata": {
        "id": "y9Wij1oImGHn"
      },
      "execution_count": 40,
      "outputs": []
    },
    {
      "cell_type": "markdown",
      "source": [
        "#Initialize Models and Hyperparameters"
      ],
      "metadata": {
        "id": "RAKXBX0Apm73"
      }
    },
    {
      "cell_type": "code",
      "source": [
        "# Model definition\n",
        "models = {\n",
        "    'Decision Tree': (DecisionTreeClassifier(max_depth=10, min_samples_split=10), {})\n",
        "}"
      ],
      "metadata": {
        "id": "HlDhh92jmO1r"
      },
      "execution_count": 41,
      "outputs": []
    },
    {
      "cell_type": "markdown",
      "source": [
        "## Perform Randomized Search CV for the Model\n"
      ],
      "metadata": {
        "id": "GEdcn6UEpx5-"
      }
    },
    {
      "cell_type": "code",
      "source": [
        "# Initialize dictionaries to store evaluation results\n",
        "evaluation_results = {}\n",
        "\n",
        "# Train Models with Randomized Search\n",
        "for model_name, (model, params) in models.items():\n",
        "    print(f\"Training {model_name} with Randomized Search...\")\n",
        "\n",
        "    # Initialize RandomizedSearchCV\n",
        "    randomized_search = RandomizedSearchCV(estimator=model, param_distributions=params, n_iter=20,\n",
        "                                           cv=3, scoring='accuracy', verbose=2, n_jobs=-1, random_state=42)\n",
        "\n",
        "    # Fit Randomized Search\n",
        "    randomized_search.fit(X_train_scaled, y_train)\n",
        "\n",
        "    # Best parameters and best score\n",
        "    best_params = randomized_search.best_params_\n",
        "    best_score = randomized_search.best_score_\n",
        "    print(f\"Best cross-validated accuracy for {model_name}: {best_score:.4f}\")\n",
        "\n",
        "    # Evaluate the best model\n",
        "    best_model = randomized_search.best_estimator_\n",
        "\n",
        "    # Calculate accuracy using the helper function\n",
        "    accuracy = calculate_accuracy(best_model, X_test_scaled, y_test)\n",
        "    print(f\"{model_name} Accuracy: {accuracy:.4f}\")\n",
        "\n",
        "    # Generate classification report\n",
        "    classification_report_dict = generate_classification_report(best_model, X_test_scaled, y_test)\n",
        "    print(f\"Classification Report for {model_name}:\\n\", pd.DataFrame(classification_report_dict).T)"
      ],
      "metadata": {
        "colab": {
          "base_uri": "https://localhost:8080/"
        },
        "id": "CEsWTNKNn13M",
        "outputId": "2e66d5de-7d7f-447d-ed1b-ece71c8ea6bf"
      },
      "execution_count": 42,
      "outputs": [
        {
          "output_type": "stream",
          "name": "stdout",
          "text": [
            "Training Decision Tree with Randomized Search...\n",
            "Fitting 3 folds for each of 1 candidates, totalling 3 fits\n"
          ]
        },
        {
          "output_type": "stream",
          "name": "stderr",
          "text": [
            "/usr/local/lib/python3.10/dist-packages/sklearn/model_selection/_search.py:320: UserWarning: The total space of parameters 1 is smaller than n_iter=20. Running 1 iterations. For exhaustive searches, use GridSearchCV.\n",
            "  warnings.warn(\n"
          ]
        },
        {
          "output_type": "stream",
          "name": "stdout",
          "text": [
            "Best cross-validated accuracy for Decision Tree: 0.8487\n",
            "Decision Tree Accuracy: 0.8497\n",
            "Classification Report for Decision Tree:\n",
            "               precision    recall  f1-score        support\n",
            "0              0.136364  0.001442  0.002854    2080.000000\n",
            "1              0.284866  0.003872  0.007640   24795.000000\n",
            "2              0.850897  0.998521  0.918817  152836.000000\n",
            "accuracy       0.849748  0.849748  0.849748       0.849748\n",
            "macro avg      0.424042  0.334612  0.309770  179711.000000\n",
            "weighted avg   0.764530  0.849748  0.782499  179711.000000\n"
          ]
        }
      ]
    },
    {
      "cell_type": "code",
      "source": [
        "    # Calculate predictions\n",
        "    y_pred = best_model.predict(X_test_scaled)\n",
        "\n",
        "    # Map predictions and true labels to string labels\n",
        "    y_test_mapped = map_predictions(y_test + 1)  # Increment to revert to original labels (1, 2, 3)\n",
        "    y_pred_mapped = map_predictions(y_pred + 1)\n",
        "\n",
        "    # Print data types for debugging\n",
        "    print(f\"Data types: y_test_mapped = {type(y_test_mapped)}, y_pred_mapped = {type(y_pred_mapped)}\")"
      ],
      "metadata": {
        "colab": {
          "base_uri": "https://localhost:8080/"
        },
        "id": "WX2kZEVon16k",
        "outputId": "71a61a05-f2c6-4bed-bf57-6e5d578b4404"
      },
      "execution_count": 43,
      "outputs": [
        {
          "output_type": "stream",
          "name": "stdout",
          "text": [
            "Data types: y_test_mapped = <class 'list'>, y_pred_mapped = <class 'list'>\n"
          ]
        }
      ]
    },
    {
      "cell_type": "code",
      "source": [
        "    # Calculate confusion matrix\n",
        "    cm = confusion_matrix(y_test_mapped, y_pred_mapped)\n",
        "    print(f\"{model_name} Confusion Matrix:\\n{cm}\")\n",
        "\n",
        "    # Plot the confusion matrix\n",
        "    plt.figure(figsize=(4, 3))\n",
        "    sns.heatmap(cm, annot=True, fmt='d', cmap='Blues',\n",
        "                xticklabels=['Slight', 'Serious', 'Fatal'],\n",
        "                yticklabels=['Slight', 'Serious', 'Fatal'])\n",
        "    plt.title(f'Confusion Matrix for {model_name}')\n",
        "    plt.xlabel('Predicted Label')\n",
        "    plt.ylabel('True Label')\n",
        "    plt.show()\n",
        "\n",
        "    # Store evaluation results in the dictionary\n",
        "    evaluation_results[model_name] = {\n",
        "        'accuracy': accuracy,\n",
        "        'best_params': best_params,\n",
        "    }"
      ],
      "metadata": {
        "colab": {
          "base_uri": "https://localhost:8080/",
          "height": 402
        },
        "id": "MVD7SVCwmO4M",
        "outputId": "29586845-aae6-4591-eebc-b54108dfe67b"
      },
      "execution_count": 44,
      "outputs": [
        {
          "output_type": "stream",
          "name": "stdout",
          "text": [
            "Decision Tree Confusion Matrix:\n",
            "[[152610    214     12]\n",
            " [ 24692     96      7]\n",
            " [  2050     27      3]]\n"
          ]
        },
        {
          "output_type": "display_data",
          "data": {
            "text/plain": [
              "<Figure size 400x300 with 2 Axes>"
            ],
            "image/png": "[encoded data removed]"
          },
          "metadata": {}
        }
      ]
    },
    {
      "cell_type": "markdown",
      "source": [
        "#Save the Model"
      ],
      "metadata": {
        "id": "BvJXdihU6F5L"
      }
    },
    {
      "cell_type": "code",
      "source": [
        "from sklearn.preprocessing import StandardScaler\n",
        "\n",
        "# Initialize the scaler\n",
        "scaler = StandardScaler()\n",
        "\n",
        "# Fit the scaler on the training data\n",
        "X_train_scaled = scaler.fit_transform(X_train)  # assuming X_train is your training features\n",
        "\n",
        "# Now save the scaler and model after fitting\n",
        "scaler_filename = 'scaler.pkl'\n",
        "with open(scaler_filename, 'wb') as file:\n",
        "    pickle.dump(scaler, file)\n",
        "\n",
        "# Save the trained model\n",
        "model_filename = 'best_model.pkl'\n",
        "with open(model_filename, 'wb') as file:\n",
        "    pickle.dump(best_model, file)\n",
        "\n"
      ],
      "metadata": {
        "id": "S_uVcDYaGMNp"
      },
      "execution_count": 46,
      "outputs": []
    },
    {
      "cell_type": "markdown",
      "source": [
        "#Load & Predict"
      ],
      "metadata": {
        "id": "LQnzkEY7KsHW"
      }
    },
    {
      "cell_type": "code",
      "source": [
        "import pickle\n",
        "import numpy as np\n",
        "\n",
        "# Step 1: Load the trained model and the scaler\n",
        "with open('best_model.pkl', 'rb') as file:\n",
        "    best_model = pickle.load(file)\n",
        "\n",
        "with open('scaler.pkl', 'rb') as file:\n",
        "    scaler = pickle.load(file)\n",
        "\n",
        "# Step 2: Define a function to get user input\n",
        "def get_user_input():\n",
        "    print(\"Enter the following inputs:\")\n",
        "    longitude = float(input(\"Enter Longitude: \"))\n",
        "    latitude = float(input(\"Enter Latitude: \"))\n",
        "    number_of_vehicles = int(input(\"Enter Number_of_Vehicles: \"))\n",
        "    number_of_casualties = int(input(\"Enter Number_of_Casualties: \"))\n",
        "    day_of_week = int(input(\"Enter Day_of_Week: \"))\n",
        "    local_authority_district = int(input(\"Enter Local_Authority_(District): \"))\n",
        "    speed_limit = int(input(\"Enter Speed_limit: \"))\n",
        "    light_conditions = int(input(\"Enter Light_Conditions: \"))\n",
        "    weather_conditions = int(input(\"Enter Weather_Conditions: \"))\n",
        "    road_surface_conditions = int(input(\"Enter Road_Surface_Conditions: \"))\n",
        "    special_conditions_at_site = int(input(\"Enter Special_Conditions_at_Site: \"))\n",
        "    urban_or_rural_area = int(input(\"Enter Urban_or_Rural_Area: \"))\n",
        "\n",
        "    return np.array([[longitude, latitude, number_of_vehicles, number_of_casualties,\n",
        "                      day_of_week, local_authority_district, speed_limit,\n",
        "                      light_conditions, weather_conditions, road_surface_conditions,\n",
        "                      special_conditions_at_site, urban_or_rural_area]])\n",
        "\n",
        "# Step 3: Get user input and make a prediction\n",
        "user_input = get_user_input()\n",
        "\n",
        "# Scale the input using the loaded scaler\n",
        "user_input_scaled = scaler.transform(user_input)\n",
        "\n",
        "# Make a prediction\n",
        "prediction = best_model.predict(user_input_scaled)\n",
        "\n",
        "# Map the prediction to severity levels\n",
        "severity_mapping = {0: 'Slight', 1: 'Serious', 2: 'Fatal'}\n",
        "predicted_severity = severity_mapping[prediction[0]]\n",
        "\n",
        "# Display the prediction\n",
        "print(f\"The predicted accident severity is: {predicted_severity}\")\n"
      ],
      "metadata": {
        "colab": {
          "base_uri": "https://localhost:8080/"
        },
        "id": "Ch4-6rv1I4WP",
        "outputId": "4701c3bd-2dfd-4309-baa6-8e042eec1d81"
      },
      "execution_count": 47,
      "outputs": [
        {
          "output_type": "stream",
          "name": "stdout",
          "text": [
            "Enter the following inputs:\n",
            "Enter Longitude: -0.199248\n",
            "Enter Latitude: 51.514399\n",
            "Enter Number_of_Vehicles: 4\n",
            "Enter Number_of_Casualties: 3\n",
            "Enter Day_of_Week: 2\n",
            "Enter Local_Authority_(District): 12\n",
            "Enter Speed_limit: 30\n",
            "Enter Light_Conditions: 2\n",
            "Enter Weather_Conditions: 3\n",
            "Enter Road_Surface_Conditions: 2\n",
            "Enter Special_Conditions_at_Site: 1\n",
            "Enter Urban_or_Rural_Area: 1\n",
            "The predicted accident severity is: Fatal\n"
          ]
        },
        {
          "output_type": "stream",
          "name": "stderr",
          "text": [
            "/usr/local/lib/python3.10/dist-packages/sklearn/base.py:493: UserWarning: X does not have valid feature names, but StandardScaler was fitted with feature names\n",
            "  warnings.warn(\n"
          ]
        }
      ]
    }
  ]
}